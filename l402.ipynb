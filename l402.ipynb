{
 "cells": [
  {
   "cell_type": "code",
   "execution_count": 196,
   "metadata": {},
   "outputs": [],
   "source": [
    "import requests\n",
    "from l402_types import L402Info\n"
   ]
  },
  {
   "cell_type": "markdown",
   "metadata": {},
   "source": [
    "### Getting L402 URI Info"
   ]
  },
  {
   "cell_type": "code",
   "execution_count": 199,
   "metadata": {},
   "outputs": [],
   "source": [
    "def get_l402_uri_info(uri: str) -> dict:\n",
    "    \"\"\"\n",
    "   Returns the information of the L402 URI resource.\n",
    "\n",
    "    Args:\n",
    "    uri (str): The L402 URI to describe.\n",
    "\n",
    "    Returns:\n",
    "    dict: A dictionary containing the description of the L402 URI.\n",
    "    \"\"\"\n",
    "    if not uri.startswith(\"l402://\"):\n",
    "        raise ValueError(\"Invalid L402 URI format\")\n",
    "    \n",
    "    scheme = \"http://\" if \"localhost\" in uri else \"https://\"\n",
    "    http_url = uri.replace(\"l402://\", scheme, 1)\n",
    "    \n",
    "    response = requests.get(http_url)\n",
    "    response.raise_for_status()\n",
    "    \n",
    "    return response.json()\n",
    "\n",
    "    "
   ]
  },
  {
   "cell_type": "code",
   "execution_count": 94,
   "metadata": {},
   "outputs": [
    {
     "data": {
      "text/plain": [
       "{'access': {'endpoint': 'http://localhost:8080/v0/gateway/access/634ae965-03db-4bb7-872e-c23dd1b8d75f',\n",
       "  'method': 'POST'},\n",
       " 'content_type': 'api',\n",
       " 'cover_url': '',\n",
       " 'description': 'Scrape a given URL. Pass the URL as JSON in the request body as follows:\\n```\\n{\"url\": url }\\n```',\n",
       " 'name': 'Web Scraping\\n',\n",
       " 'pricing': [{'amount': 1, 'currency': 'USD'}],\n",
       " 'version': '1.0'}"
      ]
     },
     "execution_count": 94,
     "metadata": {},
     "output_type": "execute_result"
    }
   ],
   "source": [
    "info = get_l402_uri_info(\"l402://localhost:8080/v0/gateway/634ae965-03db-4bb7-872e-c23dd1b8d75f/info\")\n",
    "# info = get_l402_uri_info(\"l402://blockbuster.fewsats.com/video/info/79c816f77fdc4e66b8cd18ad67537936\")\n",
    "info['access'].pop('authentication', None)\n",
    "info"
   ]
  },
  {
   "cell_type": "markdown",
   "metadata": {},
   "source": [
    "### Generating Python Function"
   ]
  },
  {
   "cell_type": "code",
   "execution_count": 248,
   "metadata": {},
   "outputs": [],
   "source": [
    "from cosette import Chat\n",
    "import json \n",
    "func_generation_sp = \"\"\"You are an AI assistant specialized in creating Python functions based on L402 info inputs. \n",
    "When given an L402 info dictionary, your task is to generate a Python function that can access the specified endpoint. \n",
    "Follow these guidelines:\n",
    "\n",
    "1. Create a function name that relates to the resource or action described in the 'name' field making it specific enough to avoid conflicts.\n",
    "2. Use the 'endpoint' field to determine the URL for the request.\n",
    "3. Use the 'method' field to determine the HTTP method for the request.\n",
    "4. Handle any required parameters for the endpoint request by passing them as function params.\n",
    "5. Write a docstring that includes:\n",
    "   - A brief description of the function's purpose\n",
    "   - Parameters with their types and descriptions\n",
    "   - Return value with its type and description\n",
    "6. Do not import the requests library. Assume it is available in the global scope.\n",
    "7. Handle potential errors and exceptions appropriately.\n",
    "8. Do not handle any authentication or authorization in the function.\n",
    "9. Return the response from the endpoint.\n",
    "10. Use L402 request client to send the request and configure exactly like this:\n",
    "\n",
    "L402 Request configuration:\n",
    "```\n",
    "l402_requests.configure(\n",
    "   preimage_provider=AlbyAPI(api_key=os.getenv(\"ALBY_TOKEN\")),\n",
    "   credentials_service=SqliteCredentialsService()\n",
    ")\n",
    "```\n",
    "\n",
    "Example input:\n",
    "```\n",
    "{'access': {'authentication': {'format': 'L402 {credentials}:{proof_of_payment}',\n",
    "   'header': 'Authorization',\n",
    "   'protocol': 'L402'},\n",
    "  'endpoint': 'https://blockbuster.fewsats.com/video/stream/79c816f77fdc4e66b8cd18ad67537936',\n",
    "  'method': 'POST'},\n",
    " 'content_type': 'video',\n",
    " 'cover_url': 'https://pub-3c55410f5c574362bbaa52948499969e.r2.dev/cover-images/79c816f77fdc4e66b8cd18ad67537936',\n",
    " 'description': 'Lex Fridman Podcast full episode:    • Andrew Huberman: Focus, Controversy, ',\n",
    " 'name': 'How to focus and think deeply | Andrew Huberman and Lex Fridman',\n",
    " 'pricing': [{'amount': 1, 'currency': 'USD'}],\n",
    " 'version': '1.0'}\n",
    "```\n",
    "\n",
    "Example output:\n",
    "```\n",
    "from l402.client import requests as l402_requests\n",
    "from l402.client.preimage_provider import AlbyAPI\n",
    "from l402.client.credentials import SqliteCredentialsService\n",
    "import requests\n",
    "import os\n",
    "\n",
    "l402_requests.configure(\n",
    "   preimage_provider=AlbyAPI(api_key=os.getenv(\"ALBY_TOKEN\")),\n",
    "   credentials_service=SqliteCredentialsService()\n",
    ")\n",
    " def stream_video_huberman() -> dict:\n",
    "    \\\"\\\"\\\"\n",
    "    Stream the video of the podcast episode featuring Andrew Huberman and Lex Fridman.\n",
    "\n",
    "    This function sends a POST request to the specified endpoint.\n",
    "    Returns:\n",
    "    - requests.Response: The response object containing the server's response to the request.\n",
    "    \\\"\\\"\\\"\n",
    "    endpoint = \"https://blockbuster.fewsats.com/video/stream/79c816f77fdc4e66b8cd18ad67537936\"\n",
    "    try:\n",
    "        response = l402_requests.post(endpoint, headers=headers)\n",
    "        response.raise_for_status()  # Raise an error for bad responses\n",
    "        return response.json()\n",
    "    except requests.exceptions.RequestException as e:\n",
    "        print(f\"An error occurred: {e}\")\n",
    "        return None\n",
    "```\n",
    "Your response should be a complete Python function definition, including imports, type hints, docstring, and function body. Only output the function definition, no other text.\"\"\"\n"
   ]
  },
  {
   "cell_type": "code",
   "execution_count": 249,
   "metadata": {},
   "outputs": [],
   "source": [
    "def generate_python_function(info: L402Info) -> str:\n",
    "   \"\"\"\n",
    "   Generates a Python function based on the provided L402 info dictionary.\n",
    "\n",
    "   Args:\n",
    "   info (L402Info): The L402 info dictionary containing the details of the resource.\n",
    "\n",
    "   Returns:\n",
    "   str: A Python function definition as a string.\n",
    "   \"\"\"\n",
    "\n",
    "   chat = Chat('gpt-4o-mini', sp=func_generation_sp)\n",
    "   return chat(json.dumps(info))\n",
    "\n",
    "func_code = generate_python_function(info)"
   ]
  },
  {
   "cell_type": "markdown",
   "metadata": {},
   "source": [
    "### Extracting the function code"
   ]
  },
  {
   "cell_type": "code",
   "execution_count": null,
   "metadata": {},
   "outputs": [],
   "source": [
    "def get_text(response):\n",
    "    return response.choices[0].message.content\n",
    "\n",
    "response = get_text(func_code)\n",
    "response"
   ]
  },
  {
   "cell_type": "code",
   "execution_count": 180,
   "metadata": {},
   "outputs": [],
   "source": [
    "import re\n",
    "def extract_function_code(func_code):\n",
    "    code_pattern = re.compile(r'```python\\n(.*?)```', re.DOTALL)\n",
    "    match = code_pattern.search(func_code)\n",
    "    return match.group(1).strip() if match else func_code\n"
   ]
  },
  {
   "cell_type": "code",
   "execution_count": null,
   "metadata": {},
   "outputs": [],
   "source": [
    "import re\n",
    "def extract_function_code(func_code):\n",
    "    code_pattern = re.compile(r'```python\\n(.*?)```', re.DOTALL)\n",
    "    match = code_pattern.search(func_code)\n",
    "    return match.group(1).strip() if match else func_code\n"
   ]
  },
  {
   "cell_type": "code",
   "execution_count": 181,
   "metadata": {},
   "outputs": [
    {
     "name": "stdout",
     "output_type": "stream",
     "text": [
      "from l402.client import requests as l402_requests\n",
      "from l402.client.preimage_provider import AlbyAPI\n",
      "from l402.client.credentials import SqliteCredentialsService\n",
      "import requests\n",
      "import os\n",
      "\n",
      "l402_requests.configure(\n",
      "   preimage_provider=AlbyAPI(api_key=os.getenv(\"ALBY_TOKEN\")),\n",
      "   credentials_service=SqliteCredentialsService()\n",
      ")\n",
      "\n",
      "def scrape_web_url(url: str) -> requests.Response:\n",
      "    \"\"\"\n",
      "    Scrape a given URL by sending a POST request with the URL in the request body.\n",
      "\n",
      "    This function sends a POST request to the specified endpoint with the URL parameter included in the body as JSON.\n",
      "    \n",
      "    Parameters:\n",
      "    - url (str): The URL to scrape.\n",
      "\n",
      "    Returns:\n",
      "    - requests.Response: The response object containing the server's response to the request.\n",
      "    \"\"\"\n",
      "    endpoint = \"http://localhost:8080/v0/gateway/access/634ae965-03db-4bb7-872e-c23dd1b8d75f\"\n",
      "    json_data = {\"url\": url}\n",
      "    try:\n",
      "        response = l402_requests.post(endpoint, json=json_data)\n",
      "        response.raise_for_status()  # Raise an error for bad responses\n",
      "        return response\n",
      "    except requests.exceptions.RequestException as e:\n",
      "        print(f\"An error occurred: {e}\")\n",
      "        return None\n"
     ]
    }
   ],
   "source": [
    "extracted_code = extract_function_code(response)\n",
    "print(extracted_code)"
   ]
  },
  {
   "cell_type": "markdown",
   "metadata": {},
   "source": [
    "### Creating the function"
   ]
  },
  {
   "cell_type": "code",
   "execution_count": null,
   "metadata": {},
   "outputs": [],
   "source": [
    "import importlib.util\n",
    "import re\n",
    "import os\n",
    "\n",
    "def create_func(code_string):\n",
    "    # Extract Python code from Markdown code blocks if present\n",
    "    code_pattern = re.compile(r'```python\\n(.*?)```', re.DOTALL)\n",
    "    match = code_pattern.search(code_string)\n",
    "    extracted_code = match.group(1).strip() if match else code_string\n",
    "\n",
    "    # Create a temporary file name\n",
    "    temp_file = 'temp_function.py'\n",
    "\n",
    "    # try:\n",
    "        # Write the code to a temporary file\n",
    "    with open(temp_file, 'w') as f:\n",
    "        f.write(extracted_code)\n",
    "\n",
    "    # Import the function\n",
    "    spec = importlib.util.spec_from_file_location(\"temp_module\", temp_file)\n",
    "    temp_module = importlib.util.module_from_spec(spec)\n",
    "    spec.loader.exec_module(temp_module)\n",
    "\n",
    "    # Get the function\n",
    "    function_name = extracted_code.split('def ')[1].split('(')[0].strip()\n",
    "    return getattr(temp_module, function_name)\n",
    "\n",
    "    # finally:\n",
    "    #     # Remove the temporary file\n",
    "    #     if os.path.exists(temp_file):\n",
    "    #         os.remove(temp_file)"
   ]
  },
  {
   "cell_type": "code",
   "execution_count": 183,
   "metadata": {},
   "outputs": [],
   "source": [
    "\n",
    "gf = create_func(extracted_code)\n"
   ]
  },
  {
   "cell_type": "code",
   "execution_count": 188,
   "metadata": {},
   "outputs": [
    {
     "data": {
      "text/plain": [
       "<Response [200]>"
      ]
     },
     "execution_count": 188,
     "metadata": {},
     "output_type": "execute_result"
    }
   ],
   "source": [
    "r = gf('https://www.spacex.com/')\n",
    "r = r.json()"
   ]
  },
  {
   "cell_type": "code",
   "execution_count": 194,
   "metadata": {},
   "outputs": [
    {
     "data": {
      "text/markdown": [
       "UPCOMING LAUNCH\n",
       "\n",
       "## Starship's Fifth Flight Test\n",
       "\n",
       "[LEARN MORE](/launches/mission/?missionId=starship-flight-5)\n",
       "\n",
       "Recent Launch\n",
       "\n",
       "## Hera Mission\n",
       "\n",
       "[Rewatch](/launches/mission/?missionId=hera)\n",
       "\n",
       "CURRENT MISSION\n",
       "\n",
       "## CREW-9 MISSION\n",
       "\n",
       "[REWATCH](/launches/mission/?missionId=crew-9)\n",
       "\n",
       "RECENT MISSION\n",
       "\n",
       "## POLARIS DAWN\n",
       "\n",
       "[REWATCH](/launches/mission/?missionId=polarisdawn)\n",
       "\n",
       "## ADVANCING HUMAN SPACEFLIGHT\n",
       "\n",
       "[LEARN MORE](/updates/#eva-suit)\n",
       "\n",
       "## TO MAKE LIFE MULTIPLANETARY\n",
       "\n",
       "[LEARN MORE](/updates/#make-life-multiplanetary)"
      ],
      "text/plain": [
       "<IPython.core.display.Markdown object>"
      ]
     },
     "metadata": {},
     "output_type": "display_data"
    }
   ],
   "source": [
    "from IPython.display import display, Markdown\n",
    "display(Markdown(r['data']['markdown']))\n"
   ]
  },
  {
   "cell_type": "markdown",
   "metadata": {},
   "source": [
    "## Adding Tools to the Agent"
   ]
  },
  {
   "cell_type": "code",
   "execution_count": 268,
   "metadata": {},
   "outputs": [
    {
     "data": {
      "text/markdown": [
       "I have access to a tool that provides information about L402 URIs. Specifically, I can retrieve the description of a given L402 URI using the tool.\n",
       "\n",
       "<details>\n",
       "\n",
       "- id: chatcmpl-AGTocC7ldgZPEKheNTAoEq52fhRHm\n",
       "- choices: [Choice(finish_reason='stop', index=0, logprobs=None, message=ChatCompletionMessage(content='I have access to a tool that provides information about L402 URIs. Specifically, I can retrieve the description of a given L402 URI using the tool.', refusal=None, role='assistant', function_call=None, tool_calls=None))]\n",
       "- created: 1728491222\n",
       "- model: gpt-4o-mini-2024-07-18\n",
       "- object: chat.completion\n",
       "- service_tier: None\n",
       "- system_fingerprint: fp_e2bde53e6e\n",
       "- usage: CompletionUsage(completion_tokens=33, prompt_tokens=111, total_tokens=144, completion_tokens_details=CompletionTokensDetails(audio_tokens=None, reasoning_tokens=0), prompt_tokens_details=PromptTokensDetails(audio_tokens=None, cached_tokens=0))\n",
       "\n",
       "</details>"
      ],
      "text/plain": [
       "ChatCompletion(id='chatcmpl-AGTocC7ldgZPEKheNTAoEq52fhRHm', choices=[Choice(finish_reason='stop', index=0, logprobs=None, message=ChatCompletionMessage(content='I have access to a tool that provides information about L402 URIs. Specifically, I can retrieve the description of a given L402 URI using the tool.', refusal=None, role='assistant', function_call=None, tool_calls=None))], created=1728491222, model='gpt-4o-mini-2024-07-18', object='chat.completion', service_tier=None, system_fingerprint='fp_e2bde53e6e', usage=In: 111; Out: 33; Total: 144)"
      ]
     },
     "execution_count": 268,
     "metadata": {},
     "output_type": "execute_result"
    }
   ],
   "source": [
    "tools = [get_l402_uri_info]\n",
    "chat = Chat('gpt-4o-mini', sp='You are a helpful assistant that provides information about L402 URIs and your available tools.', tools=tools)\n",
    "\n",
    "chat(\"which tools do you have available?\")"
   ]
  },
  {
   "cell_type": "code",
   "execution_count": 270,
   "metadata": {},
   "outputs": [
    {
     "data": {
      "text/markdown": [
       "Here is the information for the L402 URI `l402://localhost:8080/v0/gateway/634ae965-03db-4bb7-872e-c23dd1b8d75f/info`:\n",
       "\n",
       "- **Name**: Web Scraping\n",
       "- **Description**: Scrape a given URL. Pass the URL as JSON in the request body as follows:\n",
       "  ```\n",
       "  {\"url\": url }\n",
       "  ```\n",
       "- **Version**: 1.0\n",
       "- **Content Type**: api\n",
       "- **Pricing**: \n",
       "  - Amount: 1\n",
       "  - Currency: USD\n",
       "- **Access**:\n",
       "  - **Authentication**:\n",
       "    - Format: L402 {credentials}:{proof_of_payment}\n",
       "    - Header: Authorization\n",
       "    - Protocol: L402\n",
       "  - **Endpoint**: http://localhost:8080/v0/gateway/access/634ae965-03db-4bb7-872e-c23dd1b8d75f\n",
       "  - **Method**: POST\n",
       "- **Cover URL**: (not provided)"
      ],
      "text/plain": [
       "<IPython.core.display.Markdown object>"
      ]
     },
     "metadata": {},
     "output_type": "display_data"
    }
   ],
   "source": [
    "r = chat('What is the info of: l402://localhost:8080/v0/gateway/634ae965-03db-4bb7-872e-c23dd1b8d75f/info')\n",
    "display(Markdown(get_text(r)))"
   ]
  },
  {
   "cell_type": "code",
   "execution_count": 271,
   "metadata": {},
   "outputs": [
    {
     "name": "stdout",
     "output_type": "stream",
     "text": [
      "L402 URI info retrieved successfully.\n"
     ]
    },
    {
     "data": {
      "text/plain": [
       "{'access': {'endpoint': 'http://localhost:8080/v0/gateway/access/634ae965-03db-4bb7-872e-c23dd1b8d75f',\n",
       "  'method': 'POST'},\n",
       " 'content_type': 'api',\n",
       " 'cover_url': '',\n",
       " 'description': 'Scrape a given URL. Pass the URL as JSON in the request body as follows:\\n```\\n{\"url\": url }\\n```',\n",
       " 'name': 'Web Scraping\\n',\n",
       " 'pricing': [{'amount': 1, 'currency': 'USD'}],\n",
       " 'version': '1.0'}"
      ]
     },
     "execution_count": 271,
     "metadata": {},
     "output_type": "execute_result"
    }
   ],
   "source": [
    "uri=\"l402://localhost:8080/v0/gateway/634ae965-03db-4bb7-872e-c23dd1b8d75f/info\"\n",
    "\n",
    "# Step 1: Get L402 URI info\n",
    "info = get_l402_uri_info(uri)\n",
    "print(\"L402 URI info retrieved successfully.\")\n",
    "info['access'].pop('authentication', None)\n",
    "info\n"
   ]
  },
  {
   "cell_type": "code",
   "execution_count": 272,
   "metadata": {},
   "outputs": [
    {
     "name": "stdout",
     "output_type": "stream",
     "text": [
      "Python function generated successfully.\n"
     ]
    },
    {
     "data": {
      "text/markdown": [
       "```python\n",
       "from l402.client import requests as l402_requests\n",
       "from l402.client.preimage_provider import AlbyAPI\n",
       "from l402.client.credentials import SqliteCredentialsService\n",
       "import requests\n",
       "import os\n",
       "\n",
       "l402_requests.configure(\n",
       "   preimage_provider=AlbyAPI(api_key=os.getenv(\"ALBY_TOKEN\")),\n",
       "   credentials_service=SqliteCredentialsService()\n",
       ")\n",
       "\n",
       "def scrape_web_url(url: str) -> dict:\n",
       "    \"\"\"\n",
       "    Scrape a given URL by sending a POST request to the specified endpoint.\n",
       "    \n",
       "    Parameters:\n",
       "    - url (str): The URL to be scraped, which will be passed as JSON in the request body.\n",
       "    \n",
       "    Returns:\n",
       "    - dict: The response object containing the server's response to the request.\n",
       "    \"\"\"\n",
       "    endpoint = \"http://localhost:8080/v0/gateway/access/634ae965-03db-4bb7-872e-c23dd1b8d75f\"\n",
       "    payload = {\"url\": url}\n",
       "    headers = {'Content-Type': 'application/json'}\n",
       "    \n",
       "    try:\n",
       "        response = l402_requests.post(endpoint, json=payload, headers=headers)\n",
       "        response.raise_for_status()  # Raise an error for bad responses\n",
       "        return response.json()\n",
       "    except requests.exceptions.RequestException as e:\n",
       "        print(f\"An error occurred: {e}\")\n",
       "        return None\n",
       "```\n",
       "\n",
       "<details>\n",
       "\n",
       "- id: chatcmpl-AGTplsuoyWGGdlE5aQANUk9EYIRIk\n",
       "- choices: [Choice(finish_reason='stop', index=0, logprobs=None, message=ChatCompletionMessage(content='```python\\nfrom l402.client import requests as l402_requests\\nfrom l402.client.preimage_provider import AlbyAPI\\nfrom l402.client.credentials import SqliteCredentialsService\\nimport requests\\nimport os\\n\\nl402_requests.configure(\\n   preimage_provider=AlbyAPI(api_key=os.getenv(\"ALBY_TOKEN\")),\\n   credentials_service=SqliteCredentialsService()\\n)\\n\\ndef scrape_web_url(url: str) -> dict:\\n    \"\"\"\\n    Scrape a given URL by sending a POST request to the specified endpoint.\\n    \\n    Parameters:\\n    - url (str): The URL to be scraped, which will be passed as JSON in the request body.\\n    \\n    Returns:\\n    - dict: The response object containing the server\\'s response to the request.\\n    \"\"\"\\n    endpoint = \"http://localhost:8080/v0/gateway/access/634ae965-03db-4bb7-872e-c23dd1b8d75f\"\\n    payload = {\"url\": url}\\n    headers = {\\'Content-Type\\': \\'application/json\\'}\\n    \\n    try:\\n        response = l402_requests.post(endpoint, json=payload, headers=headers)\\n        response.raise_for_status()  # Raise an error for bad responses\\n        return response.json()\\n    except requests.exceptions.RequestException as e:\\n        print(f\"An error occurred: {e}\")\\n        return None\\n```', refusal=None, role='assistant', function_call=None, tool_calls=None))]\n",
       "- created: 1728491293\n",
       "- model: gpt-4o-mini-2024-07-18\n",
       "- object: chat.completion\n",
       "- service_tier: None\n",
       "- system_fingerprint: fp_e2bde53e6e\n",
       "- usage: CompletionUsage(completion_tokens=276, prompt_tokens=889, total_tokens=1165, completion_tokens_details=CompletionTokensDetails(audio_tokens=None, reasoning_tokens=0), prompt_tokens_details=PromptTokensDetails(audio_tokens=None, cached_tokens=0))\n",
       "\n",
       "</details>"
      ],
      "text/plain": [
       "ChatCompletion(id='chatcmpl-AGTplsuoyWGGdlE5aQANUk9EYIRIk', choices=[Choice(finish_reason='stop', index=0, logprobs=None, message=ChatCompletionMessage(content='```python\\nfrom l402.client import requests as l402_requests\\nfrom l402.client.preimage_provider import AlbyAPI\\nfrom l402.client.credentials import SqliteCredentialsService\\nimport requests\\nimport os\\n\\nl402_requests.configure(\\n   preimage_provider=AlbyAPI(api_key=os.getenv(\"ALBY_TOKEN\")),\\n   credentials_service=SqliteCredentialsService()\\n)\\n\\ndef scrape_web_url(url: str) -> dict:\\n    \"\"\"\\n    Scrape a given URL by sending a POST request to the specified endpoint.\\n    \\n    Parameters:\\n    - url (str): The URL to be scraped, which will be passed as JSON in the request body.\\n    \\n    Returns:\\n    - dict: The response object containing the server\\'s response to the request.\\n    \"\"\"\\n    endpoint = \"http://localhost:8080/v0/gateway/access/634ae965-03db-4bb7-872e-c23dd1b8d75f\"\\n    payload = {\"url\": url}\\n    headers = {\\'Content-Type\\': \\'application/json\\'}\\n    \\n    try:\\n        response = l402_requests.post(endpoint, json=payload, headers=headers)\\n        response.raise_for_status()  # Raise an error for bad responses\\n        return response.json()\\n    except requests.exceptions.RequestException as e:\\n        print(f\"An error occurred: {e}\")\\n        return None\\n```', refusal=None, role='assistant', function_call=None, tool_calls=None))], created=1728491293, model='gpt-4o-mini-2024-07-18', object='chat.completion', service_tier=None, system_fingerprint='fp_e2bde53e6e', usage=In: 889; Out: 276; Total: 1165)"
      ]
     },
     "execution_count": 272,
     "metadata": {},
     "output_type": "execute_result"
    }
   ],
   "source": [
    "# Step 2: Generate Python function\n",
    "func_code = generate_python_function(info)\n",
    "print(\"Python function generated successfully.\")\n",
    "func_code"
   ]
  },
  {
   "cell_type": "code",
   "execution_count": 273,
   "metadata": {},
   "outputs": [
    {
     "name": "stdout",
     "output_type": "stream",
     "text": [
      "Function code extracted successfully.\n"
     ]
    },
    {
     "data": {
      "text/plain": [
       "'from l402.client import requests as l402_requests\\nfrom l402.client.preimage_provider import AlbyAPI\\nfrom l402.client.credentials import SqliteCredentialsService\\nimport requests\\nimport os\\n\\nl402_requests.configure(\\n   preimage_provider=AlbyAPI(api_key=os.getenv(\"ALBY_TOKEN\")),\\n   credentials_service=SqliteCredentialsService()\\n)\\n\\ndef scrape_web_url(url: str) -> dict:\\n    \"\"\"\\n    Scrape a given URL by sending a POST request to the specified endpoint.\\n    \\n    Parameters:\\n    - url (str): The URL to be scraped, which will be passed as JSON in the request body.\\n    \\n    Returns:\\n    - dict: The response object containing the server\\'s response to the request.\\n    \"\"\"\\n    endpoint = \"http://localhost:8080/v0/gateway/access/634ae965-03db-4bb7-872e-c23dd1b8d75f\"\\n    payload = {\"url\": url}\\n    headers = {\\'Content-Type\\': \\'application/json\\'}\\n    \\n    try:\\n        response = l402_requests.post(endpoint, json=payload, headers=headers)\\n        response.raise_for_status()  # Raise an error for bad responses\\n        return response.json()\\n    except requests.exceptions.RequestException as e:\\n        print(f\"An error occurred: {e}\")\\n        return None'"
      ]
     },
     "execution_count": 273,
     "metadata": {},
     "output_type": "execute_result"
    }
   ],
   "source": [
    "\n",
    "# Step 3: Extract function code\n",
    "extracted_code = extract_function_code(get_text(func_code))\n",
    "print(\"Function code extracted successfully.\")\n",
    "extracted_code"
   ]
  },
  {
   "cell_type": "code",
   "execution_count": 274,
   "metadata": {},
   "outputs": [
    {
     "name": "stdout",
     "output_type": "stream",
     "text": [
      "Function created successfully.\n"
     ]
    }
   ],
   "source": [
    "\n",
    "# Step 4: Create the function\n",
    "cf = create_func(extracted_code)\n",
    "print(\"Function created successfully.\")"
   ]
  },
  {
   "cell_type": "code",
   "execution_count": 256,
   "metadata": {},
   "outputs": [
    {
     "data": {
      "text/plain": [
       "{'success': True,\n",
       " 'data': {'markdown': \"UPCOMING LAUNCH\\n\\n## Starship's Fifth Flight Test\\n\\n[LEARN MORE](/launches/mission/?missionId=starship-flight-5)\\n\\nRecent Launch\\n\\n## Hera Mission\\n\\n[Rewatch](/launches/mission/?missionId=hera)\\n\\nCURRENT MISSION\\n\\n## CREW-9 MISSION\\n\\n[REWATCH](/launches/mission/?missionId=crew-9)\\n\\nRECENT MISSION\\n\\n## POLARIS DAWN\\n\\n[REWATCH](/launches/mission/?missionId=polarisdawn)\\n\\n## ADVANCING HUMAN SPACEFLIGHT\\n\\n[LEARN MORE](/updates/#eva-suit)\\n\\n## TO MAKE LIFE MULTIPLANETARY\\n\\n[LEARN MORE](/updates/#make-life-multiplanetary)\",\n",
       "  'metadata': {'title': 'SpaceXSpaceX Logo',\n",
       "   'description': 'SpaceX designs, manufactures and launches advanced rockets and spacecraft. The company was founded in 2002 to revolutionize space technology, with the ultimate goal of enabling people to live on other planets.',\n",
       "   'language': 'en',\n",
       "   'keywords': 'space,spacex,aerospace,elon musk,mars,falcon 9,falcon heavy,dragon',\n",
       "   'ogTitle': 'SpaceX',\n",
       "   'ogDescription': 'SpaceX designs, manufactures and launches advanced rockets and spacecraft.',\n",
       "   'ogUrl': 'http://www.spacex.com',\n",
       "   'ogImage': 'https://www.spacex.com/static/images/share.jpg',\n",
       "   'ogLocale': 'en_US',\n",
       "   'ogLocaleAlternate': [],\n",
       "   'ogSiteName': 'SpaceX',\n",
       "   'sourceURL': 'https://www.spacex.com/',\n",
       "   'statusCode': 200}}}"
      ]
     },
     "execution_count": 256,
     "metadata": {},
     "output_type": "execute_result"
    }
   ],
   "source": [
    "# function('https://www.spacex.com/')"
   ]
  },
  {
   "cell_type": "code",
   "execution_count": 275,
   "metadata": {},
   "outputs": [],
   "source": [
    "tools = [get_l402_uri_info, cf]"
   ]
  },
  {
   "cell_type": "code",
   "execution_count": 276,
   "metadata": {},
   "outputs": [],
   "source": [
    "chat = Chat('gpt-4o-mini', sp='You are a helpful assistant that provides information about L402 URIs and your available tools.', tools=tools)\n"
   ]
  },
  {
   "cell_type": "code",
   "execution_count": 263,
   "metadata": {},
   "outputs": [
    {
     "data": {
      "text/markdown": [
       "I have the following tools available:\n",
       "\n",
       "1. **get_l402_uri_info**: This tool returns information about a specific L402 URI resource. You provide the URI, and it returns a description of that resource.\n",
       "\n",
       "2. **scrape_web_url**: This tool scrapes a given URL by sending a POST request to the specified endpoint with the URL included in the request body. It returns the response data from the web scraping request.\n",
       "\n",
       "If you need to use either of these tools, just let me know how I can assist you!\n",
       "\n",
       "<details>\n",
       "\n",
       "- id: chatcmpl-AGTn00jXLrUVjkDzdQfT0RJcIFYAZ\n",
       "- choices: [Choice(finish_reason='stop', index=0, logprobs=None, message=ChatCompletionMessage(content='I have the following tools available:\\n\\n1. **get_l402_uri_info**: This tool returns information about a specific L402 URI resource. You provide the URI, and it returns a description of that resource.\\n\\n2. **scrape_web_url**: This tool scrapes a given URL by sending a POST request to the specified endpoint with the URL included in the request body. It returns the response data from the web scraping request.\\n\\nIf you need to use either of these tools, just let me know how I can assist you!', refusal=None, role='assistant', function_call=None, tool_calls=None))]\n",
       "- created: 1728491122\n",
       "- model: gpt-4o-mini-2024-07-18\n",
       "- object: chat.completion\n",
       "- service_tier: None\n",
       "- system_fingerprint: fp_f85bea6784\n",
       "- usage: CompletionUsage(completion_tokens=109, prompt_tokens=189, total_tokens=298, completion_tokens_details=CompletionTokensDetails(audio_tokens=None, reasoning_tokens=0), prompt_tokens_details=PromptTokensDetails(audio_tokens=None, cached_tokens=0))\n",
       "\n",
       "</details>"
      ],
      "text/plain": [
       "ChatCompletion(id='chatcmpl-AGTn00jXLrUVjkDzdQfT0RJcIFYAZ', choices=[Choice(finish_reason='stop', index=0, logprobs=None, message=ChatCompletionMessage(content='I have the following tools available:\\n\\n1. **get_l402_uri_info**: This tool returns information about a specific L402 URI resource. You provide the URI, and it returns a description of that resource.\\n\\n2. **scrape_web_url**: This tool scrapes a given URL by sending a POST request to the specified endpoint with the URL included in the request body. It returns the response data from the web scraping request.\\n\\nIf you need to use either of these tools, just let me know how I can assist you!', refusal=None, role='assistant', function_call=None, tool_calls=None))], created=1728491122, model='gpt-4o-mini-2024-07-18', object='chat.completion', service_tier=None, system_fingerprint='fp_f85bea6784', usage=In: 189; Out: 109; Total: 298)"
      ]
     },
     "execution_count": 263,
     "metadata": {},
     "output_type": "execute_result"
    }
   ],
   "source": [
    "chat(\"which tools do you have available?\")"
   ]
  },
  {
   "cell_type": "code",
   "execution_count": 278,
   "metadata": {},
   "outputs": [
    {
     "data": {
      "text/markdown": [
       "The scraping of the URL \"https://www.spacex.com/\" has returned the following content and metadata:\n",
       "\n",
       "### Markdown Content:\n",
       "- **UPCOMING LAUNCH**\n",
       "  - **Starship's Fifth Flight Test**  \n",
       "    [LEARN MORE](/launches/mission/?missionId=starship-flight-5)\n",
       "\n",
       "- **Recent Launch**\n",
       "  - **Hera Mission**  \n",
       "    [Rewatch](/launches/mission/?missionId=hera)\n",
       "\n",
       "- **CURRENT MISSION**\n",
       "  - **CREW-9 MISSION**  \n",
       "    [REWATCH](/launches/mission/?missionId=crew-9)\n",
       "\n",
       "- **RECENT MISSION**\n",
       "  - **POLARIS DAWN**  \n",
       "    [REWATCH](/launches/mission/?missionId=polarisdawn)\n",
       "\n",
       "- **ADVANCING HUMAN SPACEFLIGHT**  \n",
       "  [LEARN MORE](/updates/#eva-suit)\n",
       "\n",
       "- **TO MAKE LIFE MULTIPLANETARY**  \n",
       "  [LEARN MORE](/updates/#make-life-multiplanetary)\n",
       "\n",
       "### Metadata:\n",
       "- **Title:** SpaceX | SpaceX Logo\n",
       "- **Description:** SpaceX designs, manufactures and launches advanced rockets and spacecraft. The company was founded in 2002 to revolutionize space technology, with the ultimate goal of enabling people to live on other planets.\n",
       "- **Language:** English (en)\n",
       "- **Keywords:** space, spacex, aerospace, elon musk, mars, falcon 9, falcon heavy, dragon\n",
       "- **Open Graph Title:** SpaceX\n",
       "- **Open Graph Description:** SpaceX designs, manufactures and launches advanced rockets and spacecraft.\n",
       "- **Open Graph URL:** http://www.spacex.com\n",
       "- **Open Graph Image:** ![Image](https://www.spacex.com/static/images/share.jpg)\n",
       "- **Open Graph Locale:** en_US\n",
       "- **Source URL:** https://www.spacex.com/\n",
       "- **Status Code:** 200 (indicating that the request was successful)\n",
       "\n",
       "If you need further details or specific information, feel free to ask!\n",
       "\n",
       "<details>\n",
       "\n",
       "- id: chatcmpl-AGTqxkjuqPbT6HHkEO5EWFpHrDHVq\n",
       "- choices: [Choice(finish_reason='stop', index=0, logprobs=None, message=ChatCompletionMessage(content='The scraping of the URL \"https://www.spacex.com/\" has returned the following content and metadata:\\n\\n### Markdown Content:\\n- **UPCOMING LAUNCH**\\n  - **Starship\\'s Fifth Flight Test**  \\n    [LEARN MORE](/launches/mission/?missionId=starship-flight-5)\\n\\n- **Recent Launch**\\n  - **Hera Mission**  \\n    [Rewatch](/launches/mission/?missionId=hera)\\n\\n- **CURRENT MISSION**\\n  - **CREW-9 MISSION**  \\n    [REWATCH](/launches/mission/?missionId=crew-9)\\n\\n- **RECENT MISSION**\\n  - **POLARIS DAWN**  \\n    [REWATCH](/launches/mission/?missionId=polarisdawn)\\n\\n- **ADVANCING HUMAN SPACEFLIGHT**  \\n  [LEARN MORE](/updates/#eva-suit)\\n\\n- **TO MAKE LIFE MULTIPLANETARY**  \\n  [LEARN MORE](/updates/#make-life-multiplanetary)\\n\\n### Metadata:\\n- **Title:** SpaceX | SpaceX Logo\\n- **Description:** SpaceX designs, manufactures and launches advanced rockets and spacecraft. The company was founded in 2002 to revolutionize space technology, with the ultimate goal of enabling people to live on other planets.\\n- **Language:** English (en)\\n- **Keywords:** space, spacex, aerospace, elon musk, mars, falcon 9, falcon heavy, dragon\\n- **Open Graph Title:** SpaceX\\n- **Open Graph Description:** SpaceX designs, manufactures and launches advanced rockets and spacecraft.\\n- **Open Graph URL:** http://www.spacex.com\\n- **Open Graph Image:** ![Image](https://www.spacex.com/static/images/share.jpg)\\n- **Open Graph Locale:** en_US\\n- **Source URL:** https://www.spacex.com/\\n- **Status Code:** 200 (indicating that the request was successful)\\n\\nIf you need further details or specific information, feel free to ask!', refusal=None, role='assistant', function_call=None, tool_calls=None))]\n",
       "- created: 1728491367\n",
       "- model: gpt-4o-mini-2024-07-18\n",
       "- object: chat.completion\n",
       "- service_tier: None\n",
       "- system_fingerprint: fp_e2bde53e6e\n",
       "- usage: CompletionUsage(completion_tokens=427, prompt_tokens=783, total_tokens=1210, completion_tokens_details=CompletionTokensDetails(audio_tokens=None, reasoning_tokens=0), prompt_tokens_details=PromptTokensDetails(audio_tokens=None, cached_tokens=0))\n",
       "\n",
       "</details>"
      ],
      "text/plain": [
       "ChatCompletion(id='chatcmpl-AGTqxkjuqPbT6HHkEO5EWFpHrDHVq', choices=[Choice(finish_reason='stop', index=0, logprobs=None, message=ChatCompletionMessage(content='The scraping of the URL \"https://www.spacex.com/\" has returned the following content and metadata:\\n\\n### Markdown Content:\\n- **UPCOMING LAUNCH**\\n  - **Starship\\'s Fifth Flight Test**  \\n    [LEARN MORE](/launches/mission/?missionId=starship-flight-5)\\n\\n- **Recent Launch**\\n  - **Hera Mission**  \\n    [Rewatch](/launches/mission/?missionId=hera)\\n\\n- **CURRENT MISSION**\\n  - **CREW-9 MISSION**  \\n    [REWATCH](/launches/mission/?missionId=crew-9)\\n\\n- **RECENT MISSION**\\n  - **POLARIS DAWN**  \\n    [REWATCH](/launches/mission/?missionId=polarisdawn)\\n\\n- **ADVANCING HUMAN SPACEFLIGHT**  \\n  [LEARN MORE](/updates/#eva-suit)\\n\\n- **TO MAKE LIFE MULTIPLANETARY**  \\n  [LEARN MORE](/updates/#make-life-multiplanetary)\\n\\n### Metadata:\\n- **Title:** SpaceX | SpaceX Logo\\n- **Description:** SpaceX designs, manufactures and launches advanced rockets and spacecraft. The company was founded in 2002 to revolutionize space technology, with the ultimate goal of enabling people to live on other planets.\\n- **Language:** English (en)\\n- **Keywords:** space, spacex, aerospace, elon musk, mars, falcon 9, falcon heavy, dragon\\n- **Open Graph Title:** SpaceX\\n- **Open Graph Description:** SpaceX designs, manufactures and launches advanced rockets and spacecraft.\\n- **Open Graph URL:** http://www.spacex.com\\n- **Open Graph Image:** ![Image](https://www.spacex.com/static/images/share.jpg)\\n- **Open Graph Locale:** en_US\\n- **Source URL:** https://www.spacex.com/\\n- **Status Code:** 200 (indicating that the request was successful)\\n\\nIf you need further details or specific information, feel free to ask!', refusal=None, role='assistant', function_call=None, tool_calls=None))], created=1728491367, model='gpt-4o-mini-2024-07-18', object='chat.completion', service_tier=None, system_fingerprint='fp_e2bde53e6e', usage=In: 783; Out: 427; Total: 1210)"
      ]
     },
     "execution_count": 278,
     "metadata": {},
     "output_type": "execute_result"
    }
   ],
   "source": [
    "chat.toolloop(\"can you scrape this url for me: https://www.spacex.com/\")\n"
   ]
  },
  {
   "cell_type": "code",
   "execution_count": null,
   "metadata": {},
   "outputs": [],
   "source": []
  }
 ],
 "metadata": {
  "kernelspec": {
   "display_name": "venv",
   "language": "python",
   "name": "python3"
  },
  "language_info": {
   "codemirror_mode": {
    "name": "ipython",
    "version": 3
   },
   "file_extension": ".py",
   "mimetype": "text/x-python",
   "name": "python",
   "nbconvert_exporter": "python",
   "pygments_lexer": "ipython3",
   "version": "3.12.3"
  }
 },
 "nbformat": 4,
 "nbformat_minor": 2
}
