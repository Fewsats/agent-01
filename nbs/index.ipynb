{
 "cells": [
  {
   "cell_type": "code",
   "execution_count": null,
   "metadata": {},
   "outputs": [],
   "source": [
    "#| hide\n",
    "from ant.core import *"
   ]
  },
  {
   "cell_type": "markdown",
   "metadata": {},
   "source": [
    "# ant\n",
    "\n",
    "> ANT tools for AI"
   ]
  },
  {
   "cell_type": "markdown",
   "metadata": {},
   "source": [
    "This file will become your README and also the index of your documentation."
   ]
  },
  {
   "cell_type": "markdown",
   "metadata": {},
   "source": [
    "## Usage"
   ]
  },
  {
   "cell_type": "markdown",
   "metadata": {},
   "source": [
    "### Installation"
   ]
  },
  {
   "cell_type": "markdown",
   "metadata": {},
   "source": [
    "Install latest from the GitHub [repository][repo]:\n",
    "\n",
    "```sh\n",
    "$ pip install git+https://github.com/Fewsats/ant.git\n",
    "```\n",
    "\n",
    "[repo]: https://github.com/Fewsats/ant\n",
    "[docs]: https://Fewsats.github.io/ant/\n",
    "[pypi]: https://pypi.org/project/ant/\n",
    "[conda]: https://anaconda.org/Fewsats/ant"
   ]
  },
  {
   "cell_type": "markdown",
   "metadata": {},
   "source": [
    "## How to use\n",
    "\n",
    "Let's demonstrate how to use the `add_l402_tool` function to dynamically add new tools to our AI agent."
   ]
  },
  {
   "cell_type": "code",
   "execution_count": null,
   "metadata": {},
   "outputs": [
    {
     "data": {
      "text/markdown": [
       "I do not have any tools available. However, I can provide information and answer questions about L402 URIs and related topics. How may I assist you?\n",
       "\n",
       "<details>\n",
       "\n",
       "- id: chatcmpl-AGsPypK5yVfftQhTxdL6qINeS49z1\n",
       "- choices: [Choice(finish_reason='stop', index=0, logprobs=None, message=ChatCompletionMessage(content='I do not have any tools available. However, I can provide information and answer questions about L402 URIs and related topics. How may I assist you?', refusal=None, role='assistant', function_call=None, tool_calls=None))]\n",
       "- created: 1728585794\n",
       "- model: gpt-4o-mini-2024-07-18\n",
       "- object: chat.completion\n",
       "- service_tier: None\n",
       "- system_fingerprint: fp_8552ec53e1\n",
       "- usage: CompletionUsage(completion_tokens=32, prompt_tokens=48, total_tokens=80, completion_tokens_details=CompletionTokensDetails(audio_tokens=None, reasoning_tokens=0), prompt_tokens_details=PromptTokensDetails(audio_tokens=None, cached_tokens=0))\n",
       "\n",
       "</details>"
      ],
      "text/plain": [
       "ChatCompletion(id='chatcmpl-AGsPypK5yVfftQhTxdL6qINeS49z1', choices=[Choice(finish_reason='stop', index=0, logprobs=None, message=ChatCompletionMessage(content='I do not have any tools available. However, I can provide information and answer questions about L402 URIs and related topics. How may I assist you?', refusal=None, role='assistant', function_call=None, tool_calls=None))], created=1728585794, model='gpt-4o-mini-2024-07-18', object='chat.completion', service_tier=None, system_fingerprint='fp_8552ec53e1', usage=In: 48; Out: 32; Total: 80)"
      ]
     },
     "execution_count": null,
     "metadata": {},
     "output_type": "execute_result"
    }
   ],
   "source": [
    "from ant.core import add_l402_tool\n",
    "from cosette import Chat    \n",
    "\n",
    "tools = []\n",
    "chat = Chat('gpt-4o-mini', sp='You are a helpful assistant that provides information about L402 URIs and your available tools. If you do not have any tools, please say so.', tools=tools)\n",
    "\n",
    "chat(\"which tools do you have available?\")"
   ]
  },
  {
   "cell_type": "markdown",
   "metadata": {},
   "source": [
    "Now, let's add a tool that can add new tools given a L402 URI description. In this case, we will add a tool that can scrape a website."
   ]
  },
  {
   "cell_type": "code",
   "execution_count": null,
   "metadata": {},
   "outputs": [],
   "source": [
    "\n",
    "def add_l402_tool(uri: str) -> str:\n",
    "    \"\"\"Add a new tool to the agent's toolset.\"\"\"\n",
    "    info = get_l402_uri_info(uri)\n",
    "    r = generate_python_function(info)\n",
    "    func_code = extract_function_code(get_text(r))\n",
    "\n",
    "    cf = create_func(func_code)\n",
    "    tools.append(cf)\n",
    "    return f\"tool {cf.__name__} added\"\n",
    "\n",
    "tools.append(add_l402_tool)"
   ]
  },
  {
   "cell_type": "markdown",
   "metadata": {},
   "source": [
    "Now the agent can add new tools given a L402 URI description. Now we can add a web scraping tool and the agent can scrape a website\n"
   ]
  },
  {
   "cell_type": "code",
   "execution_count": null,
   "metadata": {},
   "outputs": [
    {
     "data": {
      "text/plain": [
       "{'access': {'authentication': {'format': 'L402 {credentials}:{proof_of_payment}',\n",
       "   'header': 'Authorization',\n",
       "   'protocol': 'L402'},\n",
       "  'endpoint': 'https://api.fewsats.com/v0/gateway/access/f12e5deb-b07b-4af4-a4f2-3fbf076228a9',\n",
       "  'method': 'POST'},\n",
       " 'content_type': 'api',\n",
       " 'cover_url': '',\n",
       " 'description': 'Scrape a given URL. Pass the URL as JSON in the request body as follows:\\n```\\n {\"url\": url }\\n```',\n",
       " 'name': 'Web Scraper TF',\n",
       " 'pricing': [{'amount': 1, 'currency': 'USD'}],\n",
       " 'version': '0.1'}"
      ]
     },
     "execution_count": null,
     "metadata": {},
     "output_type": "execute_result"
    }
   ],
   "source": [
    "uri = \"l402://api.fewsats.com/v0/gateway/f12e5deb-b07b-4af4-a4f2-3fbf076228a9/info\" # web scraping endpoint\n",
    "get_l402_uri_info(uri)\n"
   ]
  },
  {
   "cell_type": "code",
   "execution_count": null,
   "metadata": {},
   "outputs": [
    {
     "name": "stdout",
     "output_type": "stream",
     "text": [
      "Choice(finish_reason='tool_calls', index=0, logprobs=None, message=ChatCompletionMessage(content=None, refusal=None, role='assistant', function_call=None, tool_calls=[ChatCompletionMessageToolCall(id='call_SFabtoCS5GMWqAKRfgzjJJmw', function=Function(arguments='{\"uri\":\"l402://api.fewsats.com/v0/gateway/f12e5deb-b07b-4af4-a4f2-3fbf076228a9/info\"}', name='add_l402_tool'), type='function')]))\n",
      "Choice(finish_reason='tool_calls', index=0, logprobs=None, message=ChatCompletionMessage(content=None, refusal=None, role='assistant', function_call=None, tool_calls=[ChatCompletionMessageToolCall(id='call_WHh8aVx1QSNtvABziFdnaPpx', function=Function(arguments='{\"url\":\"https://fewsats.com\"}', name='scrape_url_web_scraper'), type='function')]))\n",
      "Choice(finish_reason='stop', index=0, logprobs=None, message=ChatCompletionMessage(content=\"The website [fewsats.com](https://fewsats.com) is centered around the L402 protocol, which builds on HTTP and the Lightning network to create machine-friendly, internet-first paywalls. Here are the key points from the site:\\n\\n- **L402 Protocol**: This is an open protocol designed to facilitate internet-native paywalls, allowing developers to create innovative solutions based on it.\\n  \\n- **Real-Time Data Integration**: The service enhances AI applications by providing access to contextual data and tools, notably improving the functionality of bots through technology like Retrieval Augmented Generation (RAG).\\n  \\n- **Use Case Example**: An illustrative example on the site shows how users can inquire about real-time sports scores, specifically referencing the last Yankees match, highlighting the protocol's capability to deliver timely and relevant information.\\n\\nOverall, the site underscores the importance of machine-friendly data services and how they can enrich AI systems and end-user experiences.\", refusal=None, role='assistant', function_call=None, tool_calls=None))\n"
     ]
    },
    {
     "data": {
      "text/markdown": [
       "The website [fewsats.com](https://fewsats.com) is centered around the L402 protocol, which builds on HTTP and the Lightning network to create machine-friendly, internet-first paywalls. Here are the key points from the site:\n",
       "\n",
       "- **L402 Protocol**: This is an open protocol designed to facilitate internet-native paywalls, allowing developers to create innovative solutions based on it.\n",
       "  \n",
       "- **Real-Time Data Integration**: The service enhances AI applications by providing access to contextual data and tools, notably improving the functionality of bots through technology like Retrieval Augmented Generation (RAG).\n",
       "  \n",
       "- **Use Case Example**: An illustrative example on the site shows how users can inquire about real-time sports scores, specifically referencing the last Yankees match, highlighting the protocol's capability to deliver timely and relevant information.\n",
       "\n",
       "Overall, the site underscores the importance of machine-friendly data services and how they can enrich AI systems and end-user experiences.\n",
       "\n",
       "<details>\n",
       "\n",
       "- id: chatcmpl-AGssE9zRGQXNiPjhPDaZX4W43ZXAo\n",
       "- choices: [Choice(finish_reason='stop', index=0, logprobs=None, message=ChatCompletionMessage(content=\"The website [fewsats.com](https://fewsats.com) is centered around the L402 protocol, which builds on HTTP and the Lightning network to create machine-friendly, internet-first paywalls. Here are the key points from the site:\\n\\n- **L402 Protocol**: This is an open protocol designed to facilitate internet-native paywalls, allowing developers to create innovative solutions based on it.\\n  \\n- **Real-Time Data Integration**: The service enhances AI applications by providing access to contextual data and tools, notably improving the functionality of bots through technology like Retrieval Augmented Generation (RAG).\\n  \\n- **Use Case Example**: An illustrative example on the site shows how users can inquire about real-time sports scores, specifically referencing the last Yankees match, highlighting the protocol's capability to deliver timely and relevant information.\\n\\nOverall, the site underscores the importance of machine-friendly data services and how they can enrich AI systems and end-user experiences.\", refusal=None, role='assistant', function_call=None, tool_calls=None))]\n",
       "- created: 1728587546\n",
       "- model: gpt-4o-mini-2024-07-18\n",
       "- object: chat.completion\n",
       "- service_tier: None\n",
       "- system_fingerprint: fp_f85bea6784\n",
       "- usage: CompletionUsage(completion_tokens=189, prompt_tokens=1261, total_tokens=1450, completion_tokens_details=CompletionTokensDetails(audio_tokens=None, reasoning_tokens=0), prompt_tokens_details=PromptTokensDetails(audio_tokens=None, cached_tokens=0))\n",
       "\n",
       "</details>"
      ],
      "text/plain": [
       "ChatCompletion(id='chatcmpl-AGssE9zRGQXNiPjhPDaZX4W43ZXAo', choices=[Choice(finish_reason='stop', index=0, logprobs=None, message=ChatCompletionMessage(content=\"The website [fewsats.com](https://fewsats.com) is centered around the L402 protocol, which builds on HTTP and the Lightning network to create machine-friendly, internet-first paywalls. Here are the key points from the site:\\n\\n- **L402 Protocol**: This is an open protocol designed to facilitate internet-native paywalls, allowing developers to create innovative solutions based on it.\\n  \\n- **Real-Time Data Integration**: The service enhances AI applications by providing access to contextual data and tools, notably improving the functionality of bots through technology like Retrieval Augmented Generation (RAG).\\n  \\n- **Use Case Example**: An illustrative example on the site shows how users can inquire about real-time sports scores, specifically referencing the last Yankees match, highlighting the protocol's capability to deliver timely and relevant information.\\n\\nOverall, the site underscores the importance of machine-friendly data services and how they can enrich AI systems and end-user experiences.\", refusal=None, role='assistant', function_call=None, tool_calls=None))], created=1728587546, model='gpt-4o-mini-2024-07-18', object='chat.completion', service_tier=None, system_fingerprint='fp_f85bea6784', usage=In: 1261; Out: 189; Total: 1450)"
      ]
     },
     "execution_count": null,
     "metadata": {},
     "output_type": "execute_result"
    }
   ],
   "source": [
    "chat = Chat(model=\"gpt-4o-mini\", sp=\"You are a helpful assistant that provides information about L402 URIs and your available tools. If you do not have any tools, please say so.\", tools=tools)\n",
    "\n",
    "def pchoice(r): print(r.choices[0]) # this function will print the choices made by the agent\n",
    "chat.toolloop(f\"can you summarize this website? https://fewsats.com. You can use this tool {uri}\", trace_func=pchoice)"
   ]
  },
  {
   "cell_type": "markdown",
   "metadata": {},
   "source": [
    "We can see the agent:\n",
    "1. Adds the scraping tool provided by the L402 URI. \n",
    "2. Uses the newly added tool to scrape the website\n",
    "3. Summarizes the content."
   ]
  }
 ],
 "metadata": {
  "kernelspec": {
   "display_name": "python3",
   "language": "python",
   "name": "python3"
  }
 },
 "nbformat": 4,
 "nbformat_minor": 4
}
