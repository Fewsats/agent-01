{
 "cells": [
  {
   "cell_type": "markdown",
   "metadata": {},
   "source": [
    "# ant\n",
    "\n",
    "> Meta Tools for AI agents"
   ]
  },
  {
   "cell_type": "code",
   "execution_count": null,
   "metadata": {},
   "outputs": [],
   "source": [
    "#| default_exp core"
   ]
  },
  {
   "cell_type": "code",
   "execution_count": null,
   "metadata": {},
   "outputs": [],
   "source": [
    "#| export\n",
    "import requests\n",
    "from cosette import contents, Chat\n"
   ]
  },
  {
   "cell_type": "markdown",
   "metadata": {},
   "source": [
    "### Getting L402 URI Info"
   ]
  },
  {
   "cell_type": "code",
   "execution_count": null,
   "metadata": {},
   "outputs": [],
   "source": [
    "#| export\n",
    "def get_l402_uri_info(uri: str) -> dict:\n",
    "    \"\"\"\n",
    "   Returns the information of the L402 URI resource.\n",
    "\n",
    "    Args:\n",
    "    uri (str): The L402 URI to describe.\n",
    "\n",
    "    Returns:\n",
    "    dict: A dictionary containing the description of the L402 URI.\n",
    "    \"\"\"\n",
    "    if not uri.startswith(\"l402://\"):\n",
    "        raise ValueError(\"Invalid L402 URI format\")\n",
    "    \n",
    "    scheme = \"http://\" if \"localhost\" in uri else \"https://\"\n",
    "    http_url = uri.replace(\"l402://\", scheme, 1)\n",
    "    \n",
    "    response = requests.get(http_url)\n",
    "    response.raise_for_status()\n",
    "    \n",
    "    return response.json()\n",
    "\n",
    "    "
   ]
  },
  {
   "cell_type": "code",
   "execution_count": null,
   "metadata": {},
   "outputs": [
    {
     "data": {
      "text/plain": [
       "{'access': {'endpoint': 'https://api.fewsats.com/v0/gateway/access/f12e5deb-b07b-4af4-a4f2-3fbf076228a9',\n",
       "  'method': 'POST'},\n",
       " 'content_type': 'api',\n",
       " 'cover_url': '',\n",
       " 'description': 'Scrape a given URL. Pass the URL as JSON in the request body as follows:\\n```\\n {\"url\": url }\\n```',\n",
       " 'name': 'Web Scraper TF',\n",
       " 'pricing': [{'amount': 1, 'currency': 'USD'}],\n",
       " 'version': '0.1'}"
      ]
     },
     "execution_count": null,
     "metadata": {},
     "output_type": "execute_result"
    }
   ],
   "source": [
    "uri = \"l402://api.fewsats.com/v0/gateway/f12e5deb-b07b-4af4-a4f2-3fbf076228a9/info\" # web scraping endpoint\n",
    "\n",
    "info = get_l402_uri_info(uri)\n",
    "info['access'].pop('authentication', None)\n",
    "info"
   ]
  },
  {
   "cell_type": "markdown",
   "metadata": {},
   "source": [
    "### Generating Python Function"
   ]
  },
  {
   "cell_type": "code",
   "execution_count": null,
   "metadata": {},
   "outputs": [],
   "source": [
    "#| export\n",
    "\n",
    "import json \n",
    "def default_l402_config():\n",
    "   return \"\"\"from l402.client import HubService\n",
    "   hs = HubService(os.getenv(\"HUB_API_KEY\"), ignore_existing_credentials=True)\n",
    "   l402_requests.configure(\n",
    "      preimage_provider=hs,\n",
    "      credentials_service=hs\n",
    "   )\"\"\"\n",
    "\n",
    "def func_generation_sp(l402_config: str = default_l402_config()) -> str:\n",
    "   sp =\"\"\"You are an AI assistant specialized in creating Python functions based on L402 info inputs. \n",
    "   When given an L402 info dictionary, your task is to generate a Python function that can access the specified endpoint. \n",
    "   Follow these guidelines:\n",
    "\n",
    "   1. Create a function name that relates to the resource or action described in the 'name' field making it specific enough to avoid conflicts.\n",
    "   2. Use the 'endpoint' field to determine the URL for the request.\n",
    "   3. Use the 'method' field to determine the HTTP method for the request.\n",
    "   4. Handle any required parameters for the endpoint request by passing them as function params.\n",
    "   5. Write a docstring that includes:\n",
    "      - A brief description of the function's purpose\n",
    "      - Parameters with their types and descriptions\n",
    "      - Return value with its type and description\n",
    "   6. Do not import the requests library. Assume it is available in the global scope.\n",
    "   7. Handle potential errors and exceptions appropriately.\n",
    "   8. Do not handle any authentication or authorization in the function.\n",
    "   9. Return the response from the endpoint.\n",
    "   10. Use L402 request client to send the request and configure exactly like this:\n",
    "\n",
    "   L402 Request configuration:\n",
    "   ```\n",
    "   {{l402_config}}\n",
    "   ```\n",
    "\n",
    "   Example input:\n",
    "   ```\n",
    "   {'access': {'authentication': {'format': 'L402 {credentials}:{proof_of_payment}',\n",
    "      'header': 'Authorization',\n",
    "      'protocol': 'L402'},\n",
    "   'endpoint': 'https://blockbuster.fewsats.com/video/stream/79c816f77fdc4e66b8cd18ad67537936',\n",
    "   'method': 'POST'},\n",
    "   'content_type': 'video',\n",
    "   'cover_url': 'https://pub-3c55410f5c574362bbaa52948499969e.r2.dev/cover-images/79c816f77fdc4e66b8cd18ad67537936',\n",
    "   'description': 'Lex Fridman Podcast full episode:    • Andrew Huberman: Focus, Controversy, ',\n",
    "   'name': 'How to focus and think deeply | Andrew Huberman and Lex Fridman',\n",
    "   'pricing': [{'amount': 1, 'currency': 'USD'}],\n",
    "   'version': '1.0'}\n",
    "   ```\n",
    "\n",
    "   Example output:\n",
    "   ```\n",
    "   from l402.client import requests as l402_requests\n",
    "   import requests\n",
    "   import os\n",
    "   {{l402_config}}\n",
    "\n",
    "   def stream_video_huberman() -> dict:\n",
    "      \\\"\\\"\\\"\n",
    "      Stream the video of the podcast episode featuring Andrew Huberman and Lex Fridman.\n",
    "\n",
    "      This function sends a POST request to the specified endpoint.\n",
    "      Returns:\n",
    "      - requests.Response: The response object containing the server's response to the request.\n",
    "      \\\"\\\"\\\"\n",
    "      endpoint = \"https://blockbuster.fewsats.com/video+/stream/79c816f77fdc4e66b8cd18ad67537936\"\n",
    "      response = l402_requests.post(endpoint, headers=headers)\n",
    "      response.raise_for_status()  # Raise an error for bad responses\n",
    "      return response.json()\n",
    "   ```\n",
    "   Your response should be a complete Python function definition, including imports, type hints, docstring, and function body. Only output the function definition, no other text.\"\"\"\n",
    "   \n",
    "   return sp.replace(\"{{l402_config}}\", l402_config)   "
   ]
  },
  {
   "cell_type": "code",
   "execution_count": null,
   "metadata": {},
   "outputs": [
    {
     "name": "stdout",
     "output_type": "stream",
     "text": [
      "You are an AI assistant specialized in creating Python functions based on L402 info inputs. \n",
      "   When given an L402 info dictionary, your task is to generate a Python function that can access the specified endpoint. \n",
      "   Follow these guidelines:\n",
      "\n",
      "   1. Create a function name that relates to the resource or action described in the 'name' field making it specific enough to avoid conflicts.\n",
      "   2. Use the 'endpoint' field to determine the URL for the request.\n",
      "   3. Use the 'method' field to determine the HTTP method for the request.\n",
      "   4. Handle any required parameters for the endpoint request by passing them as function params.\n",
      "   5. Write a docstring that includes:\n",
      "      - A brief description of the function's purpose\n",
      "      - Parameters with their types and descriptions\n",
      "      - Return value with its type and description\n",
      "   6. Do not import the requests library. Assume it is available in the global scope.\n",
      "   7. Handle potential errors and exceptions appropriately.\n",
      "   8. Do not handle any authentication or authorization in the function.\n",
      "   9. Return the response from the endpoint.\n",
      "   10. Use L402 request client to send the request and configure exactly like this:\n",
      "\n",
      "   L402 Request configuration:\n",
      "   ```\n",
      "   from l402.client import HubService\n",
      "   hs = HubService(os.getenv(\"HUB_API_KEY\"), ignore_existing_credentials=True)\n",
      "   l402_requests.configure(\n",
      "      preimage_provider=hs,\n",
      "      credentials_service=hs\n",
      "   )\n",
      "   ```\n",
      "\n",
      "   Example input:\n",
      "   ```\n",
      "   {'access': {'authentication': {'format': 'L402 {credentials}:{proof_of_payment}',\n",
      "      'header': 'Authorization',\n",
      "      'protocol': 'L402'},\n",
      "   'endpoint': 'https://blockbuster.fewsats.com/video/stream/79c816f77fdc4e66b8cd18ad67537936',\n",
      "   'method': 'POST'},\n",
      "   'content_type': 'video',\n",
      "   'cover_url': 'https://pub-3c55410f5c574362bbaa52948499969e.r2.dev/cover-images/79c816f77fdc4e66b8cd18ad67537936',\n",
      "   'description': 'Lex Fridman Podcast full episode:    • Andrew Huberman: Focus, Controversy, ',\n",
      "   'name': 'How to focus and think deeply | Andrew Huberman and Lex Fridman',\n",
      "   'pricing': [{'amount': 1, 'currency': 'USD'}],\n",
      "   'version': '1.0'}\n",
      "   ```\n",
      "\n",
      "   Example output:\n",
      "   ```\n",
      "   from l402.client import requests as l402_requests\n",
      "   import requests\n",
      "   import os\n",
      "   from l402.client import HubService\n",
      "   hs = HubService(os.getenv(\"HUB_API_KEY\"), ignore_existing_credentials=True)\n",
      "   l402_requests.configure(\n",
      "      preimage_provider=hs,\n",
      "      credentials_service=hs\n",
      "   )\n",
      "\n",
      "   def stream_video_huberman() -> dict:\n",
      "      \"\"\"\n",
      "      Stream the video of the podcast episode featuring Andrew Huberman and Lex Fridman.\n",
      "\n",
      "      This function sends a POST request to the specified endpoint.\n",
      "      Returns:\n",
      "      - requests.Response: The response object containing the server's response to the request.\n",
      "      \"\"\"\n",
      "      endpoint = \"https://blockbuster.fewsats.com/video+/stream/79c816f77fdc4e66b8cd18ad67537936\"\n",
      "      response = l402_requests.post(endpoint, headers=headers)\n",
      "      response.raise_for_status()  # Raise an error for bad responses\n",
      "      return response.json()\n",
      "   ```\n",
      "   Your response should be a complete Python function definition, including imports, type hints, docstring, and function body. Only output the function definition, no other text.\n"
     ]
    }
   ],
   "source": [
    "print(func_generation_sp())"
   ]
  },
  {
   "cell_type": "code",
   "execution_count": null,
   "metadata": {},
   "outputs": [],
   "source": [
    "#| export\n",
    "\n",
    "def generate_python_function(info: dict, sp: str = func_generation_sp()) -> str:\n",
    "   \"\"\"\n",
    "   Generates a Python function based on the provided L402 info dictionary.\n",
    "\n",
    "   Args:\n",
    "   info (dict): The L402 info dictionary containing the details of the resource.\n",
    "\n",
    "   Returns:\n",
    "   str: A Python function definition as a string.\n",
    "   \"\"\"\n",
    "   # we remove authentication because it's handled by the L402 client\n",
    "   # and it only confuses the LLM\n",
    "   info['access'].pop('authentication', None)\n",
    "\n",
    "   chat = Chat('gpt-4o-mini', sp=sp)\n",
    "   return chat(json.dumps(info))\n"
   ]
  },
  {
   "cell_type": "code",
   "execution_count": null,
   "metadata": {},
   "outputs": [],
   "source": [
    "\n",
    "func_code = generate_python_function(info)"
   ]
  },
  {
   "cell_type": "markdown",
   "metadata": {},
   "source": [
    "### Extracting the function code"
   ]
  },
  {
   "cell_type": "code",
   "execution_count": null,
   "metadata": {},
   "outputs": [
    {
     "data": {
      "text/plain": [
       "'```python\\nfrom l402.client import requests as l402_requests\\nimport os\\nfrom l402.client.credentials import SqliteCredentialsService\\nfrom l402.client.preimage_provider import AlbyAPI\\nl402_requests.configure(\\n   preimage_provider=AlbyAPI(api_key=os.getenv(\"ALBY_TOKEN\")),\\n   credentials_service=SqliteCredentialsService()\\n)\\n\\ndef scrape_web_url(url: str) -> dict:\\n    \"\"\"\\n    Scrape a given URL and return the response.\\n\\n    This function sends a POST request to the specified endpoint with the URL in the request body.\\n    \\n    Parameters:\\n    - url (str): The URL to be scraped.\\n\\n    Returns:\\n    - dict: The response object containing the server\\'s response to the request.\\n    \"\"\"\\n    endpoint = \"https://api.fewsats.com/v0/gateway/access/f12e5deb-b07b-4af4-a4f2-3fbf076228a9\"\\n    headers = {\"Content-Type\": \"application/json\"}\\n    json_body = {\"url\": url}\\n    \\n    try:\\n        response = l402_requests.post(endpoint, json=json_body, headers=headers)\\n        response.raise_for_status()  # Raise an error for bad responses\\n        return response.json()\\n    except Exception as e:\\n        print(f\"An error occurred: {e}\")\\n        return None\\n```'"
      ]
     },
     "execution_count": null,
     "metadata": {},
     "output_type": "execute_result"
    }
   ],
   "source": [
    "response = contents(func_code)\n",
    "response"
   ]
  },
  {
   "cell_type": "code",
   "execution_count": null,
   "metadata": {},
   "outputs": [],
   "source": [
    "#| export\n",
    "\n",
    "import re\n",
    "def extract_function_code(func_code):\n",
    "    code_pattern = re.compile(r'```python\\n(.*?)```', re.DOTALL)\n",
    "    match = code_pattern.search(func_code)\n",
    "    return match.group(1).strip() if match else func_code\n"
   ]
  },
  {
   "cell_type": "code",
   "execution_count": null,
   "metadata": {},
   "outputs": [
    {
     "name": "stdout",
     "output_type": "stream",
     "text": [
      "from l402.client import requests as l402_requests\n",
      "import os\n",
      "from l402.client.credentials import SqliteCredentialsService\n",
      "from l402.client.preimage_provider import AlbyAPI\n",
      "l402_requests.configure(\n",
      "   preimage_provider=AlbyAPI(api_key=os.getenv(\"ALBY_TOKEN\")),\n",
      "   credentials_service=SqliteCredentialsService()\n",
      ")\n",
      "\n",
      "def scrape_web_url(url: str) -> dict:\n",
      "    \"\"\"\n",
      "    Scrape a given URL and return the response.\n",
      "\n",
      "    This function sends a POST request to the specified endpoint with the URL in the request body.\n",
      "    \n",
      "    Parameters:\n",
      "    - url (str): The URL to be scraped.\n",
      "\n",
      "    Returns:\n",
      "    - dict: The response object containing the server's response to the request.\n",
      "    \"\"\"\n",
      "    endpoint = \"https://api.fewsats.com/v0/gateway/access/f12e5deb-b07b-4af4-a4f2-3fbf076228a9\"\n",
      "    headers = {\"Content-Type\": \"application/json\"}\n",
      "    json_body = {\"url\": url}\n",
      "    \n",
      "    try:\n",
      "        response = l402_requests.post(endpoint, json=json_body, headers=headers)\n",
      "        response.raise_for_status()  # Raise an error for bad responses\n",
      "        return response.json()\n",
      "    except Exception as e:\n",
      "        print(f\"An error occurred: {e}\")\n",
      "        return None\n"
     ]
    }
   ],
   "source": [
    "extracted_code = extract_function_code(response)\n",
    "print(extracted_code)"
   ]
  },
  {
   "cell_type": "markdown",
   "metadata": {},
   "source": [
    "### Creating the function"
   ]
  },
  {
   "cell_type": "code",
   "execution_count": null,
   "metadata": {},
   "outputs": [],
   "source": [
    "#| export\n",
    "\n",
    "import importlib.util\n",
    "import re\n",
    "import os\n",
    "\n",
    "def create_func(code_string):\n",
    "    # Ensure the funcs directory exists\n",
    "    os.makedirs('.funcs', exist_ok=True)\n",
    "\n",
    "    # Extract Python code from Markdown code blocks if present\n",
    "    code_pattern = re.compile(r'```python\\n(.*?)```', re.DOTALL)\n",
    "    match = code_pattern.search(code_string)\n",
    "    extracted_code = match.group(1).strip() if match else code_string\n",
    "\n",
    "    # Create a temporary file name\n",
    "\n",
    "    function_name = extracted_code.split('def ')[1].split('(')[0].strip()\n",
    "\n",
    "    temp_file = f'.funcs/{function_name}.py'\n",
    "\n",
    "    # Write the code to a temporary file\n",
    "    with open(temp_file, 'w') as f:\n",
    "        f.write(extracted_code)\n",
    "\n",
    "    # Import the function\n",
    "    spec = importlib.util.spec_from_file_location(\"temp_module\", temp_file)\n",
    "    temp_module = importlib.util.module_from_spec(spec)\n",
    "    spec.loader.exec_module(temp_module)\n",
    "\n",
    "    # Get the function\n",
    "    function_name = extracted_code.split('def ')[1].split('(')[0].strip()\n",
    "    return getattr(temp_module, function_name)\n",
    "\n"
   ]
  },
  {
   "cell_type": "code",
   "execution_count": null,
   "metadata": {},
   "outputs": [],
   "source": [
    "\n",
    "gf = create_func(extracted_code)\n"
   ]
  },
  {
   "cell_type": "code",
   "execution_count": null,
   "metadata": {},
   "outputs": [
    {
     "data": {
      "text/plain": [
       "{'success': True,\n",
       " 'data': {'markdown': \"![](https://cdn.prod.website-files.com/6645a4a7082c15bec7e9fd6e/66475f66cdbcb00d7bf2fd44_Employee%20data.png)\\n\\n[Learn More](#)![](https://cdn.prod.website-files.com/6645a4a7082c15bec7e9fd6e/6645a4a7082c15bec7e9fdda_arrow-right-icon.png)\\n\\n\\n![](https://cdn.prod.website-files.com/6645a4a7082c15bec7e9fd6e/6645a4a7082c15bec7e9fdda_arrow-right-icon.png)\\n\\n[Learn More](#)![](https://cdn.prod.website-files.com/6645a4a7082c15bec7e9fd6e/6645a4a7082c15bec7e9fdda_arrow-right-icon.png)\\n\\n\\n![](https://cdn.prod.website-files.com/6645a4a7082c15bec7e9fd6e/6645a4a7082c15bec7e9fdda_arrow-right-icon.png)\\n\\n![](https://cdn.prod.website-files.com/6645a4a7082c15bec7e9fd6e/664773c569f5d9dbac6655a0_Employee%20data-2.png)\\n\\n![](https://cdn.prod.website-files.com/6645a4a7082c15bec7e9fd6e/664762e683491e5b21c08f31_Employee%20data-3.png)\\n\\n[Learn More](#)![](https://cdn.prod.website-files.com/6645a4a7082c15bec7e9fd6e/6645a4a7082c15bec7e9fdda_arrow-right-icon.png)\\n\\n\\n![](https://cdn.prod.website-files.com/6645a4a7082c15bec7e9fd6e/6645a4a7082c15bec7e9fdda_arrow-right-icon.png)\\n\\nThe L402 protocol builds on top of HTTP and the Lightning network to enable internet-first, machine friendly paywalls.\\n\\nInternet-Native Paywalls\\n\\nThe L402 protocol builds on top of HTTP and the Lightning network to enable internet-first, machine friendly paywalls.\\n\\nL402 is an open protocol that anyone can build upon, fostering a flourishing ecosystem of innovative solutions.\\n\\nWhen the user asks about the last 'Yankees match' the response includes real-time scores, key moments, and insights from the last game.\\n\\nAmet minim mollit non deserunt est sit aliqua dolor do amet sint officia consequat duis enim mollit exercitation.\\n\\n→\\n\\nAmet minim mollit non deserunt est sit aliqua dolor do amet sint officia consequat duis enim mollit exercitation.\\n\\n→\\n\\nAI systems are now key consumers of software, driving demand for more intelligent, contextual data and tools. With one integration, Fewsats unlocks a universe of resources to supercharge these AI consumers.\\n\\nRevolutionize your bots with Retrieval Augmented Generation (RAG) and in-context information.\\n\\n\\nWhen the user asks about the last 'Yankees match' the response includes real-time scores, key moments, and insights from the last game.\\n\\nAmet minim mollit non deserunt est sit aliqua dolor do amet sint officia consequat duis enim mollit exercitation.\\n\\n→\\n\\nAmet minim mollit non deserunt est sit aliqua dolor do amet sint officia consequat duis enim mollit exercitation.\\n\\n→\\n\",\n",
       "  'metadata': {'title': 'Monetize your Files, Databases',\n",
       "   'language': None,\n",
       "   'ogLocaleAlternate': [],\n",
       "   'sourceURL': 'https://www.fewsats.com/',\n",
       "   'statusCode': 200}},\n",
       " 'error': None}"
      ]
     },
     "execution_count": null,
     "metadata": {},
     "output_type": "execute_result"
    }
   ],
   "source": [
    "r = gf('https://www.fewsats.com/')\n",
    "r"
   ]
  },
  {
   "cell_type": "markdown",
   "metadata": {},
   "source": [
    "## Adding Tools to the Agent"
   ]
  },
  {
   "cell_type": "code",
   "execution_count": null,
   "metadata": {},
   "outputs": [
    {
     "data": {
      "text/markdown": [
       "I have access to a tool that provides information about L402 URIs. Specifically, I can use the following function:\n",
       "\n",
       "- **get_l402_uri_info**: This function returns the description of a specified L402 URI resource. \n",
       "\n",
       "If you need information about a specific L402 URI, please provide it, and I can retrieve the details for you.\n",
       "\n",
       "<details>\n",
       "\n",
       "- id: chatcmpl-AJPuNpQxquTSojbZOanYVFWfPcF43\n",
       "- choices: [Choice(finish_reason='stop', index=0, logprobs=None, message=ChatCompletionMessage(content='I have access to a tool that provides information about L402 URIs. Specifically, I can use the following function:\\n\\n- **get_l402_uri_info**: This function returns the description of a specified L402 URI resource. \\n\\nIf you need information about a specific L402 URI, please provide it, and I can retrieve the details for you.', refusal=None, role='assistant', function_call=None, tool_calls=None))]\n",
       "- created: 1729191187\n",
       "- model: gpt-4o-mini-2024-07-18\n",
       "- object: chat.completion\n",
       "- service_tier: None\n",
       "- system_fingerprint: fp_8552ec53e1\n",
       "- usage: CompletionUsage(completion_tokens=72, prompt_tokens=111, total_tokens=183, completion_tokens_details=CompletionTokensDetails(audio_tokens=None, reasoning_tokens=0), prompt_tokens_details=PromptTokensDetails(audio_tokens=None, cached_tokens=0))\n",
       "\n",
       "</details>"
      ],
      "text/plain": [
       "ChatCompletion(id='chatcmpl-AJPuNpQxquTSojbZOanYVFWfPcF43', choices=[Choice(finish_reason='stop', index=0, logprobs=None, message=ChatCompletionMessage(content='I have access to a tool that provides information about L402 URIs. Specifically, I can use the following function:\\n\\n- **get_l402_uri_info**: This function returns the description of a specified L402 URI resource. \\n\\nIf you need information about a specific L402 URI, please provide it, and I can retrieve the details for you.', refusal=None, role='assistant', function_call=None, tool_calls=None))], created=1729191187, model='gpt-4o-mini-2024-07-18', object='chat.completion', service_tier=None, system_fingerprint='fp_8552ec53e1', usage=In: 111; Out: 72; Total: 183)"
      ]
     },
     "execution_count": null,
     "metadata": {},
     "output_type": "execute_result"
    }
   ],
   "source": [
    "tools = [get_l402_uri_info]\n",
    "chat = Chat('gpt-4o-mini', sp='You are a helpful assistant that provides information about L402 URIs and your available tools.', tools=tools)\n",
    "\n",
    "chat(\"which tools do you have available?\")"
   ]
  },
  {
   "cell_type": "code",
   "execution_count": null,
   "metadata": {},
   "outputs": [
    {
     "data": {
      "text/markdown": [
       "- id: chatcmpl-AJPuOdlsvw5gqMGIfHo7kIysVxIy4\n",
       "- choices: [Choice(finish_reason='tool_calls', index=0, logprobs=None, message=ChatCompletionMessage(content=None, refusal=None, role='assistant', function_call=None, tool_calls=[ChatCompletionMessageToolCall(id='call_PvWwxdWw0PvGc3Mv0zWsECA0', function=Function(arguments='{\"uri\":\"l402://api.fewsats.com/v0/gateway/f12e5deb-b07b-4af4-a4f2-3fbf076228a9/info\"}', name='get_l402_uri_info'), type='function')]))]\n",
       "- created: 1729191188\n",
       "- model: gpt-4o-mini-2024-07-18\n",
       "- object: chat.completion\n",
       "- service_tier: None\n",
       "- system_fingerprint: fp_8552ec53e1\n",
       "- usage: CompletionUsage(completion_tokens=53, prompt_tokens=233, total_tokens=286, completion_tokens_details=CompletionTokensDetails(audio_tokens=None, reasoning_tokens=0), prompt_tokens_details=PromptTokensDetails(audio_tokens=None, cached_tokens=0))"
      ],
      "text/plain": [
       "ChatCompletion(id='chatcmpl-AJPuOdlsvw5gqMGIfHo7kIysVxIy4', choices=[Choice(finish_reason='tool_calls', index=0, logprobs=None, message=ChatCompletionMessage(content=None, refusal=None, role='assistant', function_call=None, tool_calls=[ChatCompletionMessageToolCall(id='call_PvWwxdWw0PvGc3Mv0zWsECA0', function=Function(arguments='{\"uri\":\"l402://api.fewsats.com/v0/gateway/f12e5deb-b07b-4af4-a4f2-3fbf076228a9/info\"}', name='get_l402_uri_info'), type='function')]))], created=1729191188, model='gpt-4o-mini-2024-07-18', object='chat.completion', service_tier=None, system_fingerprint='fp_8552ec53e1', usage=In: 233; Out: 53; Total: 286)"
      ]
     },
     "execution_count": null,
     "metadata": {},
     "output_type": "execute_result"
    }
   ],
   "source": [
    "chat(f'What is the info of: {uri}')\n"
   ]
  },
  {
   "cell_type": "code",
   "execution_count": null,
   "metadata": {},
   "outputs": [
    {
     "name": "stdout",
     "output_type": "stream",
     "text": [
      "L402 URI info retrieved successfully.\n"
     ]
    },
    {
     "data": {
      "text/plain": [
       "{'access': {'authentication': {'format': 'L402 {credentials}:{proof_of_payment}',\n",
       "   'header': 'Authorization',\n",
       "   'protocol': 'L402'},\n",
       "  'endpoint': 'https://api.fewsats.com/v0/gateway/access/f12e5deb-b07b-4af4-a4f2-3fbf076228a9',\n",
       "  'method': 'POST'},\n",
       " 'content_type': 'api',\n",
       " 'cover_url': '',\n",
       " 'description': 'Scrape a given URL. Pass the URL as JSON in the request body as follows:\\n```\\n {\"url\": url }\\n```',\n",
       " 'name': 'Web Scraper TF',\n",
       " 'pricing': [{'amount': 1, 'currency': 'USD'}],\n",
       " 'version': '0.1'}"
      ]
     },
     "execution_count": null,
     "metadata": {},
     "output_type": "execute_result"
    }
   ],
   "source": [
    "# Step 1: Get L402 URI info\n",
    "info = get_l402_uri_info(uri)\n",
    "print(\"L402 URI info retrieved successfully.\")\n",
    "info\n"
   ]
  },
  {
   "cell_type": "code",
   "execution_count": null,
   "metadata": {},
   "outputs": [
    {
     "name": "stdout",
     "output_type": "stream",
     "text": [
      "Python function generated successfully.\n"
     ]
    },
    {
     "data": {
      "text/markdown": [
       "```python\n",
       "from l402.client import requests as l402_requests\n",
       "import os\n",
       "from l402.client.credentials import SqliteCredentialsService\n",
       "from l402.client.preimage_provider import AlbyAPI\n",
       "l402_requests.configure(\n",
       "   preimage_provider=AlbyAPI(api_key=os.getenv(\"ALBY_TOKEN\")),\n",
       "   credentials_service=SqliteCredentialsService()\n",
       ")\n",
       "\n",
       "def scrape_web_url(url: str) -> dict:\n",
       "    \"\"\"\n",
       "    Scrape a given URL by sending a POST request with the URL in the request body.\n",
       "\n",
       "    Parameters:\n",
       "    - url (str): The URL to be scraped.\n",
       "\n",
       "    Returns:\n",
       "    - dict: The response from the scraping service.\n",
       "    \"\"\"\n",
       "    endpoint = \"https://api.fewsats.com/v0/gateway/access/f12e5deb-b07b-4af4-a4f2-3fbf076228a9\"\n",
       "    headers = {'Content-Type': 'application/json'}\n",
       "    payload = {\"url\": url}\n",
       "    try:\n",
       "        response = l402_requests.post(endpoint, json=payload, headers=headers)\n",
       "        response.raise_for_status()  # Raise an error for bad responses\n",
       "        return response.json()\n",
       "    except Exception as e:\n",
       "        print(f\"An error occurred: {e}\")\n",
       "        return None\n",
       "```\n",
       "\n",
       "<details>\n",
       "\n",
       "- id: chatcmpl-AJPuPpWISOrCX73hT6TzNS99bS2Iu\n",
       "- choices: [Choice(finish_reason='stop', index=0, logprobs=None, message=ChatCompletionMessage(content='```python\\nfrom l402.client import requests as l402_requests\\nimport os\\nfrom l402.client.credentials import SqliteCredentialsService\\nfrom l402.client.preimage_provider import AlbyAPI\\nl402_requests.configure(\\n   preimage_provider=AlbyAPI(api_key=os.getenv(\"ALBY_TOKEN\")),\\n   credentials_service=SqliteCredentialsService()\\n)\\n\\ndef scrape_web_url(url: str) -> dict:\\n    \"\"\"\\n    Scrape a given URL by sending a POST request with the URL in the request body.\\n\\n    Parameters:\\n    - url (str): The URL to be scraped.\\n\\n    Returns:\\n    - dict: The response from the scraping service.\\n    \"\"\"\\n    endpoint = \"https://api.fewsats.com/v0/gateway/access/f12e5deb-b07b-4af4-a4f2-3fbf076228a9\"\\n    headers = {\\'Content-Type\\': \\'application/json\\'}\\n    payload = {\"url\": url}\\n    try:\\n        response = l402_requests.post(endpoint, json=payload, headers=headers)\\n        response.raise_for_status()  # Raise an error for bad responses\\n        return response.json()\\n    except Exception as e:\\n        print(f\"An error occurred: {e}\")\\n        return None\\n```', refusal=None, role='assistant', function_call=None, tool_calls=None))]\n",
       "- created: 1729191189\n",
       "- model: gpt-4o-mini-2024-07-18\n",
       "- object: chat.completion\n",
       "- service_tier: None\n",
       "- system_fingerprint: fp_e2bde53e6e\n",
       "- usage: CompletionUsage(completion_tokens=256, prompt_tokens=959, total_tokens=1215, completion_tokens_details=CompletionTokensDetails(audio_tokens=None, reasoning_tokens=0), prompt_tokens_details=PromptTokensDetails(audio_tokens=None, cached_tokens=0))\n",
       "\n",
       "</details>"
      ],
      "text/plain": [
       "ChatCompletion(id='chatcmpl-AJPuPpWISOrCX73hT6TzNS99bS2Iu', choices=[Choice(finish_reason='stop', index=0, logprobs=None, message=ChatCompletionMessage(content='```python\\nfrom l402.client import requests as l402_requests\\nimport os\\nfrom l402.client.credentials import SqliteCredentialsService\\nfrom l402.client.preimage_provider import AlbyAPI\\nl402_requests.configure(\\n   preimage_provider=AlbyAPI(api_key=os.getenv(\"ALBY_TOKEN\")),\\n   credentials_service=SqliteCredentialsService()\\n)\\n\\ndef scrape_web_url(url: str) -> dict:\\n    \"\"\"\\n    Scrape a given URL by sending a POST request with the URL in the request body.\\n\\n    Parameters:\\n    - url (str): The URL to be scraped.\\n\\n    Returns:\\n    - dict: The response from the scraping service.\\n    \"\"\"\\n    endpoint = \"https://api.fewsats.com/v0/gateway/access/f12e5deb-b07b-4af4-a4f2-3fbf076228a9\"\\n    headers = {\\'Content-Type\\': \\'application/json\\'}\\n    payload = {\"url\": url}\\n    try:\\n        response = l402_requests.post(endpoint, json=payload, headers=headers)\\n        response.raise_for_status()  # Raise an error for bad responses\\n        return response.json()\\n    except Exception as e:\\n        print(f\"An error occurred: {e}\")\\n        return None\\n```', refusal=None, role='assistant', function_call=None, tool_calls=None))], created=1729191189, model='gpt-4o-mini-2024-07-18', object='chat.completion', service_tier=None, system_fingerprint='fp_e2bde53e6e', usage=In: 959; Out: 256; Total: 1215)"
      ]
     },
     "execution_count": null,
     "metadata": {},
     "output_type": "execute_result"
    }
   ],
   "source": [
    "# Step 2: Generate Python function\n",
    "func_code = generate_python_function(info)\n",
    "print(\"Python function generated successfully.\")\n",
    "func_code"
   ]
  },
  {
   "cell_type": "code",
   "execution_count": null,
   "metadata": {},
   "outputs": [
    {
     "name": "stdout",
     "output_type": "stream",
     "text": [
      "Function code extracted successfully.\n"
     ]
    },
    {
     "data": {
      "text/plain": [
       "'from l402.client import requests as l402_requests\\nimport os\\nfrom l402.client.credentials import SqliteCredentialsService\\nfrom l402.client.preimage_provider import AlbyAPI\\nl402_requests.configure(\\n   preimage_provider=AlbyAPI(api_key=os.getenv(\"ALBY_TOKEN\")),\\n   credentials_service=SqliteCredentialsService()\\n)\\n\\ndef scrape_web_url(url: str) -> dict:\\n    \"\"\"\\n    Scrape a given URL by sending a POST request with the URL in the request body.\\n\\n    Parameters:\\n    - url (str): The URL to be scraped.\\n\\n    Returns:\\n    - dict: The response from the scraping service.\\n    \"\"\"\\n    endpoint = \"https://api.fewsats.com/v0/gateway/access/f12e5deb-b07b-4af4-a4f2-3fbf076228a9\"\\n    headers = {\\'Content-Type\\': \\'application/json\\'}\\n    payload = {\"url\": url}\\n    try:\\n        response = l402_requests.post(endpoint, json=payload, headers=headers)\\n        response.raise_for_status()  # Raise an error for bad responses\\n        return response.json()\\n    except Exception as e:\\n        print(f\"An error occurred: {e}\")\\n        return None'"
      ]
     },
     "execution_count": null,
     "metadata": {},
     "output_type": "execute_result"
    }
   ],
   "source": [
    "\n",
    "# Step 3: Extract function code\n",
    "extracted_code = extract_function_code(contents(func_code))\n",
    "print(\"Function code extracted successfully.\")\n",
    "extracted_code"
   ]
  },
  {
   "cell_type": "code",
   "execution_count": null,
   "metadata": {},
   "outputs": [
    {
     "name": "stdout",
     "output_type": "stream",
     "text": [
      "Function created successfully.\n"
     ]
    }
   ],
   "source": [
    "\n",
    "# Step 4: Create the function\n",
    "cf = create_func(extracted_code)\n",
    "print(\"Function created successfully.\")"
   ]
  },
  {
   "cell_type": "code",
   "execution_count": null,
   "metadata": {},
   "outputs": [],
   "source": [
    "tools = [get_l402_uri_info, cf]"
   ]
  },
  {
   "cell_type": "code",
   "execution_count": null,
   "metadata": {},
   "outputs": [],
   "source": [
    "chat = Chat('gpt-4o-mini', sp='You are a helpful assistant that provides information about L402 URIs and your available tools.', tools=tools)\n"
   ]
  },
  {
   "cell_type": "code",
   "execution_count": null,
   "metadata": {},
   "outputs": [
    {
     "data": {
      "text/markdown": [
       "I have the following tools available:\n",
       "\n",
       "1. **get_l402_uri_info**: This tool returns information about a specific L402 URI resource, providing a description of the URI.\n",
       "\n",
       "2. **scrape_web_url**: This tool scrapes a given URL by sending a POST request with the URL in the request body and returns the response from the scraping service.\n",
       "\n",
       "If you have any specific queries or tasks in mind, feel free to let me know!\n",
       "\n",
       "<details>\n",
       "\n",
       "- id: chatcmpl-AJPuU55hcZu7bDpWpee1ktpe10OWO\n",
       "- choices: [Choice(finish_reason='stop', index=0, logprobs=None, message=ChatCompletionMessage(content='I have the following tools available:\\n\\n1. **get_l402_uri_info**: This tool returns information about a specific L402 URI resource, providing a description of the URI.\\n\\n2. **scrape_web_url**: This tool scrapes a given URL by sending a POST request with the URL in the request body and returns the response from the scraping service.\\n\\nIf you have any specific queries or tasks in mind, feel free to let me know!', refusal=None, role='assistant', function_call=None, tool_calls=None))]\n",
       "- created: 1729191194\n",
       "- model: gpt-4o-mini-2024-07-18\n",
       "- object: chat.completion\n",
       "- service_tier: None\n",
       "- system_fingerprint: fp_e2bde53e6e\n",
       "- usage: CompletionUsage(completion_tokens=92, prompt_tokens=177, total_tokens=269, completion_tokens_details=CompletionTokensDetails(audio_tokens=None, reasoning_tokens=0), prompt_tokens_details=PromptTokensDetails(audio_tokens=None, cached_tokens=0))\n",
       "\n",
       "</details>"
      ],
      "text/plain": [
       "ChatCompletion(id='chatcmpl-AJPuU55hcZu7bDpWpee1ktpe10OWO', choices=[Choice(finish_reason='stop', index=0, logprobs=None, message=ChatCompletionMessage(content='I have the following tools available:\\n\\n1. **get_l402_uri_info**: This tool returns information about a specific L402 URI resource, providing a description of the URI.\\n\\n2. **scrape_web_url**: This tool scrapes a given URL by sending a POST request with the URL in the request body and returns the response from the scraping service.\\n\\nIf you have any specific queries or tasks in mind, feel free to let me know!', refusal=None, role='assistant', function_call=None, tool_calls=None))], created=1729191194, model='gpt-4o-mini-2024-07-18', object='chat.completion', service_tier=None, system_fingerprint='fp_e2bde53e6e', usage=In: 177; Out: 92; Total: 269)"
      ]
     },
     "execution_count": null,
     "metadata": {},
     "output_type": "execute_result"
    }
   ],
   "source": [
    "chat(\"which tools do you have available?\")"
   ]
  },
  {
   "cell_type": "code",
   "execution_count": null,
   "metadata": {},
   "outputs": [
    {
     "data": {
      "text/markdown": [
       "I successfully scraped the URL [https://www.fewsats.com/](https://www.fewsats.com/). Here are the details:\n",
       "\n",
       "### Title:\n",
       "Monetize your Files, Databases\n",
       "\n",
       "### Markdown Content:\n",
       "```\n",
       "![](https://cdn.prod.website-files.com/6645a4a7082c15bec7e9fd6e/66475f66cdbcb00d7bf2fd44_Employee%20data.png)\n",
       "\n",
       "[Learn More](#)![](https://cdn.prod.website-files.com/6645a4a7082c15bec7e9fd6e/6645a4a7082c15bec7e9fdda_arrow-right-icon.png)\n",
       "\n",
       "![](https://cdn.prod.website-files.com/6645a4a7082c15bec7e9fd6e/6645a4a7082c15bec7e9fdda_arrow-right-icon.png)\n",
       "\n",
       "[Learn More](#)![](https://cdn.prod.website-files.com/6645a4a7082c15bec7e9fd6e/6645a4a7082c15bec7e9fdda_arrow-right-icon.png)\n",
       "\n",
       "![](https://cdn.prod.website-files.com/6645a4a7082c15bec7e9fd6e/6645a4a7082c15bec7e9fdda_arrow-right-icon.png)\n",
       "\n",
       "![](https://cdn.prod.website-files.com/6645a4a7082c15bec7e9fd6e/664773c569f5d9dbac6655a0_Employee%20data-2.png)\n",
       "\n",
       "![](https://cdn.prod.website-files.com/6645a4a7082c15bec7e9fd6e/664762e683491e5b21c08f31_Employee%20data-3.png)\n",
       "\n",
       "[Learn More](#)![](https://cdn.prod.website-files.com/6645a4a7082c15bec7e9fd6e/6645a4a7082c15bec7e9fdda_arrow-right-icon.png)\n",
       "\n",
       "The L402 protocol builds on top of HTTP and the Lightning network to enable internet-first, machine friendly paywalls.\n",
       "\n",
       "Internet-Native Paywalls\n",
       "\n",
       "The L402 protocol builds on top of HTTP and the Lightning network to enable internet-first, machine friendly paywalls.\n",
       "\n",
       "L402 is an open protocol that anyone can build upon, fostering a flourishing ecosystem of innovative solutions.\n",
       "\n",
       "When the user asks about the last 'Yankees match' the response includes real-time scores, key moments, and insights from the last game.\n",
       "\n",
       "Amet minim mollit non deserunt est sit aliqua dolor do amet sint officia consequat duis enim mollit exercitation.\n",
       "\n",
       "→\n",
       "\n",
       "AI systems are now key consumers of software, driving demand for more intelligent, contextual data and tools. With one integration, Fewsats unlocks a universe of resources to supercharge these AI consumers.\n",
       "\n",
       "Revolutionize your bots with Retrieval Augmented Generation (RAG) and in-context information.\n",
       "```\n",
       "\n",
       "### Metadata:\n",
       "- **Source URL**: [https://www.fewsats.com/](https://www.fewsats.com/)\n",
       "- **Status Code**: 200\n",
       "\n",
       "If you need more specific information or have further requests, feel free to ask!\n",
       "\n",
       "<details>\n",
       "\n",
       "- id: chatcmpl-AJPuYg49TwWr6RRRU15CstjTGtnBb\n",
       "- choices: [Choice(finish_reason='stop', index=0, logprobs=None, message=ChatCompletionMessage(content=\"I successfully scraped the URL [https://www.fewsats.com/](https://www.fewsats.com/). Here are the details:\\n\\n### Title:\\nMonetize your Files, Databases\\n\\n### Markdown Content:\\n```\\n![](https://cdn.prod.website-files.com/6645a4a7082c15bec7e9fd6e/66475f66cdbcb00d7bf2fd44_Employee%20data.png)\\n\\n[Learn More](#)![](https://cdn.prod.website-files.com/6645a4a7082c15bec7e9fd6e/6645a4a7082c15bec7e9fdda_arrow-right-icon.png)\\n\\n![](https://cdn.prod.website-files.com/6645a4a7082c15bec7e9fd6e/6645a4a7082c15bec7e9fdda_arrow-right-icon.png)\\n\\n[Learn More](#)![](https://cdn.prod.website-files.com/6645a4a7082c15bec7e9fd6e/6645a4a7082c15bec7e9fdda_arrow-right-icon.png)\\n\\n![](https://cdn.prod.website-files.com/6645a4a7082c15bec7e9fd6e/6645a4a7082c15bec7e9fdda_arrow-right-icon.png)\\n\\n![](https://cdn.prod.website-files.com/6645a4a7082c15bec7e9fd6e/664773c569f5d9dbac6655a0_Employee%20data-2.png)\\n\\n![](https://cdn.prod.website-files.com/6645a4a7082c15bec7e9fd6e/664762e683491e5b21c08f31_Employee%20data-3.png)\\n\\n[Learn More](#)![](https://cdn.prod.website-files.com/6645a4a7082c15bec7e9fd6e/6645a4a7082c15bec7e9fdda_arrow-right-icon.png)\\n\\nThe L402 protocol builds on top of HTTP and the Lightning network to enable internet-first, machine friendly paywalls.\\n\\nInternet-Native Paywalls\\n\\nThe L402 protocol builds on top of HTTP and the Lightning network to enable internet-first, machine friendly paywalls.\\n\\nL402 is an open protocol that anyone can build upon, fostering a flourishing ecosystem of innovative solutions.\\n\\nWhen the user asks about the last 'Yankees match' the response includes real-time scores, key moments, and insights from the last game.\\n\\nAmet minim mollit non deserunt est sit aliqua dolor do amet sint officia consequat duis enim mollit exercitation.\\n\\n→\\n\\nAI systems are now key consumers of software, driving demand for more intelligent, contextual data and tools. With one integration, Fewsats unlocks a universe of resources to supercharge these AI consumers.\\n\\nRevolutionize your bots with Retrieval Augmented Generation (RAG) and in-context information.\\n```\\n\\n### Metadata:\\n- **Source URL**: [https://www.fewsats.com/](https://www.fewsats.com/)\\n- **Status Code**: 200\\n\\nIf you need more specific information or have further requests, feel free to ask!\", refusal=None, role='assistant', function_call=None, tool_calls=None))]\n",
       "- created: 1729191198\n",
       "- model: gpt-4o-mini-2024-07-18\n",
       "- object: chat.completion\n",
       "- service_tier: None\n",
       "- system_fingerprint: fp_e2bde53e6e\n",
       "- usage: CompletionUsage(completion_tokens=685, prompt_tokens=1176, total_tokens=1861, completion_tokens_details=CompletionTokensDetails(audio_tokens=None, reasoning_tokens=0), prompt_tokens_details=PromptTokensDetails(audio_tokens=None, cached_tokens=0))\n",
       "\n",
       "</details>"
      ],
      "text/plain": [
       "ChatCompletion(id='chatcmpl-AJPuYg49TwWr6RRRU15CstjTGtnBb', choices=[Choice(finish_reason='stop', index=0, logprobs=None, message=ChatCompletionMessage(content=\"I successfully scraped the URL [https://www.fewsats.com/](https://www.fewsats.com/). Here are the details:\\n\\n### Title:\\nMonetize your Files, Databases\\n\\n### Markdown Content:\\n```\\n![](https://cdn.prod.website-files.com/6645a4a7082c15bec7e9fd6e/66475f66cdbcb00d7bf2fd44_Employee%20data.png)\\n\\n[Learn More](#)![](https://cdn.prod.website-files.com/6645a4a7082c15bec7e9fd6e/6645a4a7082c15bec7e9fdda_arrow-right-icon.png)\\n\\n![](https://cdn.prod.website-files.com/6645a4a7082c15bec7e9fd6e/6645a4a7082c15bec7e9fdda_arrow-right-icon.png)\\n\\n[Learn More](#)![](https://cdn.prod.website-files.com/6645a4a7082c15bec7e9fd6e/6645a4a7082c15bec7e9fdda_arrow-right-icon.png)\\n\\n![](https://cdn.prod.website-files.com/6645a4a7082c15bec7e9fd6e/6645a4a7082c15bec7e9fdda_arrow-right-icon.png)\\n\\n![](https://cdn.prod.website-files.com/6645a4a7082c15bec7e9fd6e/664773c569f5d9dbac6655a0_Employee%20data-2.png)\\n\\n![](https://cdn.prod.website-files.com/6645a4a7082c15bec7e9fd6e/664762e683491e5b21c08f31_Employee%20data-3.png)\\n\\n[Learn More](#)![](https://cdn.prod.website-files.com/6645a4a7082c15bec7e9fd6e/6645a4a7082c15bec7e9fdda_arrow-right-icon.png)\\n\\nThe L402 protocol builds on top of HTTP and the Lightning network to enable internet-first, machine friendly paywalls.\\n\\nInternet-Native Paywalls\\n\\nThe L402 protocol builds on top of HTTP and the Lightning network to enable internet-first, machine friendly paywalls.\\n\\nL402 is an open protocol that anyone can build upon, fostering a flourishing ecosystem of innovative solutions.\\n\\nWhen the user asks about the last 'Yankees match' the response includes real-time scores, key moments, and insights from the last game.\\n\\nAmet minim mollit non deserunt est sit aliqua dolor do amet sint officia consequat duis enim mollit exercitation.\\n\\n→\\n\\nAI systems are now key consumers of software, driving demand for more intelligent, contextual data and tools. With one integration, Fewsats unlocks a universe of resources to supercharge these AI consumers.\\n\\nRevolutionize your bots with Retrieval Augmented Generation (RAG) and in-context information.\\n```\\n\\n### Metadata:\\n- **Source URL**: [https://www.fewsats.com/](https://www.fewsats.com/)\\n- **Status Code**: 200\\n\\nIf you need more specific information or have further requests, feel free to ask!\", refusal=None, role='assistant', function_call=None, tool_calls=None))], created=1729191198, model='gpt-4o-mini-2024-07-18', object='chat.completion', service_tier=None, system_fingerprint='fp_e2bde53e6e', usage=In: 1176; Out: 685; Total: 1861)"
      ]
     },
     "execution_count": null,
     "metadata": {},
     "output_type": "execute_result"
    }
   ],
   "source": [
    "chat.toolloop(\"can you scrape this url for me: https://www.fewsats.com/\")"
   ]
  },
  {
   "cell_type": "markdown",
   "metadata": {},
   "source": [
    "Now that we have the full process on how to add a tool to the agent, let's write a single function that encapsulates the entire process. The agent will be able to call this function to add a new tool."
   ]
  },
  {
   "cell_type": "code",
   "execution_count": null,
   "metadata": {},
   "outputs": [],
   "source": [
    "#| export\n",
    "\n",
    "def add_l402_tool(uri: str) -> str:\n",
    "    \"\"\"Add a new tool to the agent's toolset.\"\"\"\n",
    "    info = get_l402_uri_info(uri)\n",
    "    r = generate_python_function(info)\n",
    "    func_code = extract_function_code(contents(r))\n",
    "\n",
    "    cf = create_func(func_code)\n",
    "    tools.append(cf)\n",
    "    return f\"tool {cf.__name__} added\""
   ]
  },
  {
   "cell_type": "code",
   "execution_count": null,
   "metadata": {},
   "outputs": [],
   "source": [
    "#| hide\n",
    "import nbdev; nbdev.nbdev_export()"
   ]
  },
  {
   "cell_type": "code",
   "execution_count": null,
   "metadata": {},
   "outputs": [],
   "source": [
    "sp = \"\"\"You are a helpful assistant that can add new tools to help users accomplish actions and get information. \n",
    "When a user provides an L402 URI, you should add it as a tool right away. If you do not have any tools, say so if the user asks.\"\"\"\n",
    "model = \"gpt-4o\"\n",
    "tools = [add_l402_tool]\n",
    "chat = Chat(model, sp=sp, tools=tools)\n"
   ]
  },
  {
   "cell_type": "code",
   "execution_count": null,
   "metadata": {},
   "outputs": [
    {
     "ename": "NameError",
     "evalue": "name 'messages' is not defined",
     "output_type": "error",
     "traceback": [
      "\u001b[0;31m---------------------------------------------------------------------------\u001b[0m",
      "\u001b[0;31mNameError\u001b[0m                                 Traceback (most recent call last)",
      "Cell \u001b[0;32mIn[28], line 1\u001b[0m\n\u001b[0;32m----> 1\u001b[0m \u001b[38;5;28mprint\u001b[39m(\u001b[38;5;124m\"\u001b[39m\u001b[38;5;124mReceived messages:\u001b[39m\u001b[38;5;124m\"\u001b[39m, \u001b[43mmessages\u001b[49m)\n\u001b[1;32m      2\u001b[0m msgs \u001b[38;5;241m=\u001b[39m [mk_msg(m[\u001b[38;5;124m'\u001b[39m\u001b[38;5;124mcontent\u001b[39m\u001b[38;5;124m'\u001b[39m]) \u001b[38;5;28;01mfor\u001b[39;00m m \u001b[38;5;129;01min\u001b[39;00m messages[:\u001b[38;5;241m-\u001b[39m\u001b[38;5;241m1\u001b[39m]]\n\u001b[1;32m      3\u001b[0m \u001b[38;5;28mprint\u001b[39m(msgs)\n",
      "\u001b[0;31mNameError\u001b[0m: name 'messages' is not defined"
     ]
    }
   ],
   "source": [
    "\n",
    "print(\"Received messages:\", messages)\n",
    "msgs = [mk_msg(m['content']) for m in messages[:-1]]\n",
    "print(msgs)\n",
    "chat.h = msgs\n",
    "# Use Cosette's Chat with tool loop, including the conversation history\n",
    "response = chat.toolloop(pr=messages[-1]['content'], trace_func=pchoice)\n"
   ]
  },
  {
   "cell_type": "code",
   "execution_count": null,
   "metadata": {},
   "outputs": [
    {
     "data": {
      "text/markdown": [
       "It seems that I currently don't have any tools available to perform web scraping tasks. If you have an L402 URI for a scraping tool, you can provide it, and I can add it as a tool to assist with your request.\n",
       "\n",
       "<details>\n",
       "\n",
       "- id: chatcmpl-AIcUgLTGZC3X0PygNiOYnOqjR61Af\n",
       "- choices: [Choice(finish_reason='stop', index=0, logprobs=None, message=ChatCompletionMessage(content=\"It seems that I currently don't have any tools available to perform web scraping tasks. If you have an L402 URI for a scraping tool, you can provide it, and I can add it as a tool to assist with your request.\", refusal=None, role='assistant', function_call=None, tool_calls=None))]\n",
       "- created: 1729001238\n",
       "- model: gpt-4o-2024-08-06\n",
       "- object: chat.completion\n",
       "- service_tier: None\n",
       "- system_fingerprint: fp_6b68a8204b\n",
       "- usage: CompletionUsage(completion_tokens=48, prompt_tokens=118, total_tokens=166, completion_tokens_details=CompletionTokensDetails(audio_tokens=None, reasoning_tokens=0), prompt_tokens_details=PromptTokensDetails(audio_tokens=None, cached_tokens=0))\n",
       "\n",
       "</details>"
      ],
      "text/plain": [
       "ChatCompletion(id='chatcmpl-AIcUgLTGZC3X0PygNiOYnOqjR61Af', choices=[Choice(finish_reason='stop', index=0, logprobs=None, message=ChatCompletionMessage(content=\"It seems that I currently don't have any tools available to perform web scraping tasks. If you have an L402 URI for a scraping tool, you can provide it, and I can add it as a tool to assist with your request.\", refusal=None, role='assistant', function_call=None, tool_calls=None))], created=1729001238, model='gpt-4o-2024-08-06', object='chat.completion', service_tier=None, system_fingerprint='fp_6b68a8204b', usage=In: 118; Out: 48; Total: 166)"
      ]
     },
     "execution_count": null,
     "metadata": {},
     "output_type": "execute_result"
    }
   ],
   "source": [
    "chat.toolloop(pr='scrape wolfync.com/schedule')"
   ]
  },
  {
   "cell_type": "code",
   "execution_count": null,
   "metadata": {},
   "outputs": [],
   "source": [
    "def print_history(h):\n",
    "    for i,m in enumerate(h):\n",
    "        print(i,m)\n",
    "\n",
    "print_history(chat.h)"
   ]
  },
  {
   "cell_type": "code",
   "execution_count": null,
   "metadata": {},
   "outputs": [
    {
     "data": {
      "text/markdown": [
       "The tool to scrape websites has been successfully added! You can now use it to scrape web pages. If you need to scrape a specific URL, just let me know.\n",
       "\n",
       "<details>\n",
       "\n",
       "- id: chatcmpl-AJOvM0LGbqSY2klPQoJgQl4boT5zU\n",
       "- choices: [Choice(finish_reason='stop', index=0, logprobs=None, message=ChatCompletionMessage(content='The tool to scrape websites has been successfully added! You can now use it to scrape web pages. If you need to scrape a specific URL, just let me know.', refusal=None, role='assistant', function_call=None, tool_calls=None))]\n",
       "- created: 1729187404\n",
       "- model: gpt-4o-2024-08-06\n",
       "- object: chat.completion\n",
       "- service_tier: None\n",
       "- system_fingerprint: fp_6b68a8204b\n",
       "- usage: CompletionUsage(completion_tokens=35, prompt_tokens=310, total_tokens=345, completion_tokens_details=CompletionTokensDetails(audio_tokens=None, reasoning_tokens=0), prompt_tokens_details=PromptTokensDetails(audio_tokens=None, cached_tokens=0))\n",
       "\n",
       "</details>"
      ],
      "text/plain": [
       "ChatCompletion(id='chatcmpl-AJOvM0LGbqSY2klPQoJgQl4boT5zU', choices=[Choice(finish_reason='stop', index=0, logprobs=None, message=ChatCompletionMessage(content='The tool to scrape websites has been successfully added! You can now use it to scrape web pages. If you need to scrape a specific URL, just let me know.', refusal=None, role='assistant', function_call=None, tool_calls=None))], created=1729187404, model='gpt-4o-2024-08-06', object='chat.completion', service_tier=None, system_fingerprint='fp_6b68a8204b', usage=In: 310; Out: 35; Total: 345)"
      ]
     },
     "execution_count": null,
     "metadata": {},
     "output_type": "execute_result"
    }
   ],
   "source": [
    "chat.toolloop(pr='Tool to scrape websites: l402://api.fewsats.com/v0/gateway/f12e5deb-b07b-4af4-a4f2-3fbf076228a9/info')"
   ]
  },
  {
   "cell_type": "code",
   "execution_count": null,
   "metadata": {},
   "outputs": [
    {
     "name": "stdout",
     "output_type": "stream",
     "text": [
      "0 {'role': 'user', 'content': [{'type': 'text', 'text': 'Tool to scrape websites: l402://api.fewsats.com/v0/gateway/f12e5deb-b07b-4af4-a4f2-3fbf076228a9/info'}]}\n",
      "1 ChatCompletionMessage(content=None, refusal=None, role='assistant', function_call=None, tool_calls=[ChatCompletionMessageToolCall(id='call_Pg4cdekTxclpxWBBrQfDw6Ge', function=Function(arguments='{\"uri\":\"l402://api.fewsats.com/v0/gateway/f12e5deb-b07b-4af4-a4f2-3fbf076228a9/info\"}', name='add_l402_tool'), type='function')])\n",
      "2 {'role': 'tool', 'content': [{'type': 'text', 'text': 'tool scrape_url_web_scraper added'}], 'tool_call_id': 'call_Pg4cdekTxclpxWBBrQfDw6Ge', 'name': 'add_l402_tool'}\n",
      "3 ChatCompletionMessage(content='The tool to scrape websites has been successfully added! You can now use it to scrape web pages. If you need to scrape a specific URL, just let me know.', refusal=None, role='assistant', function_call=None, tool_calls=None)\n"
     ]
    },
    {
     "data": {
      "text/plain": [
       "[None, None, None, None]"
      ]
     },
     "execution_count": null,
     "metadata": {},
     "output_type": "execute_result"
    }
   ],
   "source": [
    "[print(i,m) for i,m in enumerate(chat.h)]"
   ]
  },
  {
   "cell_type": "code",
   "execution_count": null,
   "metadata": {},
   "outputs": [],
   "source": [
    "msgs = chat.h"
   ]
  },
  {
   "cell_type": "code",
   "execution_count": null,
   "metadata": {},
   "outputs": [
    {
     "data": {
      "text/plain": [
       "[]"
      ]
     },
     "execution_count": null,
     "metadata": {},
     "output_type": "execute_result"
    }
   ],
   "source": [
    "chat = Chat(model, sp=sp, tools=tools)\n",
    "chat.h\n"
   ]
  },
  {
   "cell_type": "code",
   "execution_count": null,
   "metadata": {},
   "outputs": [
    {
     "data": {
      "text/markdown": [
       "I currently do not have any tools available to perform web scraping. If you can provide an L402 URI, I can add the necessary tool to help accomplish this task.\n",
       "\n",
       "<details>\n",
       "\n",
       "- id: chatcmpl-AIcXW0woFpKlT3A3OzdfCDLWbKmJE\n",
       "- choices: [Choice(finish_reason='stop', index=0, logprobs=None, message=ChatCompletionMessage(content='I currently do not have any tools available to perform web scraping. If you can provide an L402 URI, I can add the necessary tool to help accomplish this task.', refusal=None, role='assistant', function_call=None, tool_calls=None))]\n",
       "- created: 1729001414\n",
       "- model: gpt-4o-2024-08-06\n",
       "- object: chat.completion\n",
       "- service_tier: None\n",
       "- system_fingerprint: fp_a20a4ee344\n",
       "- usage: CompletionUsage(completion_tokens=35, prompt_tokens=213, total_tokens=248, completion_tokens_details=CompletionTokensDetails(audio_tokens=None, reasoning_tokens=0), prompt_tokens_details=PromptTokensDetails(audio_tokens=None, cached_tokens=0))\n",
       "\n",
       "</details>"
      ],
      "text/plain": [
       "ChatCompletion(id='chatcmpl-AIcXW0woFpKlT3A3OzdfCDLWbKmJE', choices=[Choice(finish_reason='stop', index=0, logprobs=None, message=ChatCompletionMessage(content='I currently do not have any tools available to perform web scraping. If you can provide an L402 URI, I can add the necessary tool to help accomplish this task.', refusal=None, role='assistant', function_call=None, tool_calls=None))], created=1729001414, model='gpt-4o-2024-08-06', object='chat.completion', service_tier=None, system_fingerprint='fp_a20a4ee344', usage=In: 213; Out: 35; Total: 248)"
      ]
     },
     "execution_count": null,
     "metadata": {},
     "output_type": "execute_result"
    }
   ],
   "source": [
    "chat.toolloop(pr='scrape https://www.fewsats.com/')"
   ]
  },
  {
   "cell_type": "code",
   "execution_count": null,
   "metadata": {},
   "outputs": [],
   "source": [
    "chat.h = msgs"
   ]
  },
  {
   "cell_type": "code",
   "execution_count": null,
   "metadata": {},
   "outputs": [
    {
     "data": {
      "text/markdown": [
       "The scraping of \"https://www.fewsats.com/\" was successful. Here's a brief overview of the content:\n",
       "\n",
       "- The website discusses the L402 protocol, which builds on top of HTTP and the Lightning network to enable internet-first, machine-friendly paywalls.\n",
       "- The L402 protocol is an open protocol fostering a flourishing ecosystem of innovative solutions.\n",
       "- There's a focus on AI systems as key consumers of software, driving demand for more intelligent, contextual data and tools. Fewsats' integration helps unlock resources for these AI consumers.\n",
       "- It mentions \"Retrieval Augmented Generation (RAG)\" and the revolutionizing of bots with in-context information.\n",
       "\n",
       "If you're interested in specific details or have any further questions, let me know!\n",
       "\n",
       "<details>\n",
       "\n",
       "- id: chatcmpl-AIcY5xu9yHs5R9w8gmOcZ8eTpq8zT\n",
       "- choices: [Choice(finish_reason='stop', index=0, logprobs=None, message=ChatCompletionMessage(content='The scraping of \"https://www.fewsats.com/\" was successful. Here\\'s a brief overview of the content:\\n\\n- The website discusses the L402 protocol, which builds on top of HTTP and the Lightning network to enable internet-first, machine-friendly paywalls.\\n- The L402 protocol is an open protocol fostering a flourishing ecosystem of innovative solutions.\\n- There\\'s a focus on AI systems as key consumers of software, driving demand for more intelligent, contextual data and tools. Fewsats\\' integration helps unlock resources for these AI consumers.\\n- It mentions \"Retrieval Augmented Generation (RAG)\" and the revolutionizing of bots with in-context information.\\n\\nIf you\\'re interested in specific details or have any further questions, let me know!', refusal=None, role='assistant', function_call=None, tool_calls=None))]\n",
       "- created: 1729001449\n",
       "- model: gpt-4o-2024-08-06\n",
       "- object: chat.completion\n",
       "- service_tier: None\n",
       "- system_fingerprint: fp_a20a4ee344\n",
       "- usage: CompletionUsage(completion_tokens=147, prompt_tokens=1379, total_tokens=1526, completion_tokens_details=CompletionTokensDetails(audio_tokens=None, reasoning_tokens=0), prompt_tokens_details=PromptTokensDetails(audio_tokens=None, cached_tokens=0))\n",
       "\n",
       "</details>"
      ],
      "text/plain": [
       "ChatCompletion(id='chatcmpl-AIcY5xu9yHs5R9w8gmOcZ8eTpq8zT', choices=[Choice(finish_reason='stop', index=0, logprobs=None, message=ChatCompletionMessage(content='The scraping of \"https://www.fewsats.com/\" was successful. Here\\'s a brief overview of the content:\\n\\n- The website discusses the L402 protocol, which builds on top of HTTP and the Lightning network to enable internet-first, machine-friendly paywalls.\\n- The L402 protocol is an open protocol fostering a flourishing ecosystem of innovative solutions.\\n- There\\'s a focus on AI systems as key consumers of software, driving demand for more intelligent, contextual data and tools. Fewsats\\' integration helps unlock resources for these AI consumers.\\n- It mentions \"Retrieval Augmented Generation (RAG)\" and the revolutionizing of bots with in-context information.\\n\\nIf you\\'re interested in specific details or have any further questions, let me know!', refusal=None, role='assistant', function_call=None, tool_calls=None))], created=1729001449, model='gpt-4o-2024-08-06', object='chat.completion', service_tier=None, system_fingerprint='fp_a20a4ee344', usage=In: 1379; Out: 147; Total: 1526)"
      ]
     },
     "execution_count": null,
     "metadata": {},
     "output_type": "execute_result"
    }
   ],
   "source": [
    "chat.toolloop(pr='scrape https://www.fewsats.com/')"
   ]
  },
  {
   "cell_type": "code",
   "execution_count": null,
   "metadata": {},
   "outputs": [
    {
     "data": {
      "text/plain": [
       "ChatCompletionMessage(content=\"It seems that I currently don't have any tools available to perform web scraping tasks. If you have an L402 URI for a scraping tool, you can provide it, and I can add it as a tool to assist with your request.\", refusal=None, role='assistant', function_call=None, tool_calls=None)"
      ]
     },
     "execution_count": null,
     "metadata": {},
     "output_type": "execute_result"
    }
   ],
   "source": [
    "msgs[1]"
   ]
  },
  {
   "cell_type": "code",
   "execution_count": null,
   "metadata": {},
   "outputs": [],
   "source": []
  }
 ],
 "metadata": {
  "kernelspec": {
   "display_name": "python3",
   "language": "python",
   "name": "python3"
  }
 },
 "nbformat": 4,
 "nbformat_minor": 2
}
