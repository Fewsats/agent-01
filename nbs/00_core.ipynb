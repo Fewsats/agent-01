{
 "cells": [
  {
   "cell_type": "markdown",
   "metadata": {},
   "source": [
    "# ant\n",
    "\n",
    "> Meta Tools for AI agents"
   ]
  },
  {
   "cell_type": "code",
   "execution_count": null,
   "metadata": {},
   "outputs": [],
   "source": [
    "#| default_exp core"
   ]
  },
  {
   "cell_type": "code",
   "execution_count": null,
   "metadata": {},
   "outputs": [],
   "source": [
    "#| export\n",
    "import requests"
   ]
  },
  {
   "cell_type": "markdown",
   "metadata": {},
   "source": [
    "### Getting L402 URI Info"
   ]
  },
  {
   "cell_type": "code",
   "execution_count": null,
   "metadata": {},
   "outputs": [],
   "source": [
    "#| export\n",
    "def get_l402_uri_info(uri: str) -> dict:\n",
    "    \"\"\"\n",
    "   Returns the information of the L402 URI resource.\n",
    "\n",
    "    Args:\n",
    "    uri (str): The L402 URI to describe.\n",
    "\n",
    "    Returns:\n",
    "    dict: A dictionary containing the description of the L402 URI.\n",
    "    \"\"\"\n",
    "    if not uri.startswith(\"l402://\"):\n",
    "        raise ValueError(\"Invalid L402 URI format\")\n",
    "    \n",
    "    scheme = \"http://\" if \"localhost\" in uri else \"https://\"\n",
    "    http_url = uri.replace(\"l402://\", scheme, 1)\n",
    "    \n",
    "    response = requests.get(http_url)\n",
    "    response.raise_for_status()\n",
    "    \n",
    "    return response.json()\n",
    "\n",
    "    "
   ]
  },
  {
   "cell_type": "code",
   "execution_count": null,
   "metadata": {},
   "outputs": [
    {
     "data": {
      "text/plain": [
       "{'access': {'endpoint': 'https://api.fewsats.com/v0/gateway/access/f12e5deb-b07b-4af4-a4f2-3fbf076228a9',\n",
       "  'method': 'POST'},\n",
       " 'content_type': 'api',\n",
       " 'cover_url': '',\n",
       " 'description': 'Scrape a given URL. Pass the URL as JSON in the request body as follows:\\n```\\n {\"url\": url }\\n```',\n",
       " 'name': 'Web Scraper TF',\n",
       " 'pricing': [{'amount': 1, 'currency': 'USD'}],\n",
       " 'version': '0.1'}"
      ]
     },
     "execution_count": null,
     "metadata": {},
     "output_type": "execute_result"
    }
   ],
   "source": [
    "uri = \"l402://api.fewsats.com/v0/gateway/f12e5deb-b07b-4af4-a4f2-3fbf076228a9/info\" # web scraping endpoint\n",
    "\n",
    "info = get_l402_uri_info(uri)\n",
    "info['access'].pop('authentication', None)\n",
    "info"
   ]
  },
  {
   "cell_type": "markdown",
   "metadata": {},
   "source": [
    "### Generating Python Function"
   ]
  },
  {
   "cell_type": "code",
   "execution_count": null,
   "metadata": {},
   "outputs": [],
   "source": [
    "#| export\n",
    "\n",
    "from cosette import Chat\n",
    "import json \n",
    "\n",
    "func_generation_sp = \"\"\"You are an AI assistant specialized in creating Python functions based on L402 info inputs. \n",
    "When given an L402 info dictionary, your task is to generate a Python function that can access the specified endpoint. \n",
    "Follow these guidelines:\n",
    "\n",
    "1. Create a function name that relates to the resource or action described in the 'name' field making it specific enough to avoid conflicts.\n",
    "2. Use the 'endpoint' field to determine the URL for the request.\n",
    "3. Use the 'method' field to determine the HTTP method for the request.\n",
    "4. Handle any required parameters for the endpoint request by passing them as function params.\n",
    "5. Write a docstring that includes:\n",
    "   - A brief description of the function's purpose\n",
    "   - Parameters with their types and descriptions\n",
    "   - Return value with its type and description\n",
    "6. Do not import the requests library. Assume it is available in the global scope.\n",
    "7. Handle potential errors and exceptions appropriately.\n",
    "8. Do not handle any authentication or authorization in the function.\n",
    "9. Return the response from the endpoint.\n",
    "10. Use L402 request client to send the request and configure exactly like this:\n",
    "\n",
    "L402 Request configuration:\n",
    "```\n",
    "l402_requests.configure(\n",
    "   preimage_provider=AlbyAPI(api_key=os.getenv(\"ALBY_TOKEN\")),\n",
    "   credentials_service=SqliteCredentialsService()\n",
    ")\n",
    "```\n",
    "\n",
    "Example input:\n",
    "```\n",
    "{'access': {'authentication': {'format': 'L402 {credentials}:{proof_of_payment}',\n",
    "   'header': 'Authorization',\n",
    "   'protocol': 'L402'},\n",
    "  'endpoint': 'https://blockbuster.fewsats.com/video/stream/79c816f77fdc4e66b8cd18ad67537936',\n",
    "  'method': 'POST'},\n",
    " 'content_type': 'video',\n",
    " 'cover_url': 'https://pub-3c55410f5c574362bbaa52948499969e.r2.dev/cover-images/79c816f77fdc4e66b8cd18ad67537936',\n",
    " 'description': 'Lex Fridman Podcast full episode:    • Andrew Huberman: Focus, Controversy, ',\n",
    " 'name': 'How to focus and think deeply | Andrew Huberman and Lex Fridman',\n",
    " 'pricing': [{'amount': 1, 'currency': 'USD'}],\n",
    " 'version': '1.0'}\n",
    "```\n",
    "\n",
    "Example output:\n",
    "```\n",
    "from l402.client import requests as l402_requests\n",
    "from l402.client.preimage_provider import AlbyAPI\n",
    "from l402.client.credentials import SqliteCredentialsService\n",
    "import requests\n",
    "import os\n",
    "\n",
    "l402_requests.configure(\n",
    "   preimage_provider=AlbyAPI(api_key=os.getenv(\"ALBY_TOKEN\")),\n",
    "   credentials_service=SqliteCredentialsService()\n",
    ")\n",
    " def stream_video_huberman() -> dict:\n",
    "    \\\"\\\"\\\"\n",
    "    Stream the video of the podcast episode featuring Andrew Huberman and Lex Fridman.\n",
    "\n",
    "    This function sends a POST request to the specified endpoint.\n",
    "    Returns:\n",
    "    - requests.Response: The response object containing the server's response to the request.\n",
    "    \\\"\\\"\\\"\n",
    "    endpoint = \"https://blockbuster.fewsats.com/video/stream/79c816f77fdc4e66b8cd18ad67537936\"\n",
    "    try:\n",
    "        response = l402_requests.post(endpoint, headers=headers)\n",
    "        response.raise_for_status()  # Raise an error for bad responses\n",
    "        return response.json()\n",
    "    except requests.exceptions.RequestException as e:\n",
    "        print(f\"An error occurred: {e}\")\n",
    "        return None\n",
    "```\n",
    "Your response should be a complete Python function definition, including imports, type hints, docstring, and function body. Only output the function definition, no other text.\"\"\"\n"
   ]
  },
  {
   "cell_type": "code",
   "execution_count": null,
   "metadata": {},
   "outputs": [],
   "source": [
    "#| export\n",
    "\n",
    "def generate_python_function(info: dict) -> str:\n",
    "   \"\"\"\n",
    "   Generates a Python function based on the provided L402 info dictionary.\n",
    "\n",
    "   Args:\n",
    "   info (dict): The L402 info dictionary containing the details of the resource.\n",
    "\n",
    "   Returns:\n",
    "   str: A Python function definition as a string.\n",
    "   \"\"\"\n",
    "   # we remove authentication because it's handled by the L402 client\n",
    "   # and it only confuses the LLM\n",
    "   info['access'].pop('authentication', None)\n",
    "\n",
    "   chat = Chat('gpt-4o-mini', sp=func_generation_sp)\n",
    "   return chat(json.dumps(info))\n"
   ]
  },
  {
   "cell_type": "code",
   "execution_count": null,
   "metadata": {},
   "outputs": [],
   "source": [
    "\n",
    "func_code = generate_python_function(info)"
   ]
  },
  {
   "cell_type": "markdown",
   "metadata": {},
   "source": [
    "### Extracting the function code"
   ]
  },
  {
   "cell_type": "code",
   "execution_count": null,
   "metadata": {},
   "outputs": [],
   "source": [
    "#| export\n",
    "def get_text(response):\n",
    "    return response.choices[0].message.content\n"
   ]
  },
  {
   "cell_type": "code",
   "execution_count": null,
   "metadata": {},
   "outputs": [
    {
     "data": {
      "text/plain": [
       "'```python\\nfrom l402.client import requests as l402_requests\\nfrom l402.client.preimage_provider import AlbyAPI\\nfrom l402.client.credentials import SqliteCredentialsService\\nimport requests\\nimport os\\n\\nl402_requests.configure(\\n   preimage_provider=AlbyAPI(api_key=os.getenv(\"ALBY_TOKEN\")),\\n   credentials_service=SqliteCredentialsService()\\n)\\n\\ndef post_web_scraper_access(url: str) -> dict:\\n    \"\"\"\\n    Scrape a given URL by passing it as JSON in the request body.\\n\\n    This function sends a POST request to the specified endpoint with the URL in the request body.\\n    \\n    Parameters:\\n    - url (str): The URL to be scraped.\\n\\n    Returns:\\n    - dict: The response object containing the server\\'s response to the request.\\n    \"\"\"\\n    endpoint = \"https://api.fewsats.com/v0/gateway/access/f12e5deb-b07b-4af4-a4f2-3fbf076228a9\"\\n    body = {\"url\": url}\\n    \\n    try:\\n        response = l402_requests.post(endpoint, json=body)\\n        response.raise_for_status()  # Raise an error for bad responses\\n        return response.json()\\n    except requests.exceptions.RequestException as e:\\n        print(f\"An error occurred: {e}\")\\n        return None\\n```'"
      ]
     },
     "execution_count": null,
     "metadata": {},
     "output_type": "execute_result"
    }
   ],
   "source": [
    "\n",
    "response = get_text(func_code)\n",
    "response"
   ]
  },
  {
   "cell_type": "code",
   "execution_count": null,
   "metadata": {},
   "outputs": [],
   "source": [
    "#| export\n",
    "\n",
    "import re\n",
    "def extract_function_code(func_code):\n",
    "    code_pattern = re.compile(r'```python\\n(.*?)```', re.DOTALL)\n",
    "    match = code_pattern.search(func_code)\n",
    "    return match.group(1).strip() if match else func_code\n"
   ]
  },
  {
   "cell_type": "code",
   "execution_count": null,
   "metadata": {},
   "outputs": [
    {
     "name": "stdout",
     "output_type": "stream",
     "text": [
      "from l402.client import requests as l402_requests\n",
      "from l402.client.preimage_provider import AlbyAPI\n",
      "from l402.client.credentials import SqliteCredentialsService\n",
      "import requests\n",
      "import os\n",
      "\n",
      "l402_requests.configure(\n",
      "   preimage_provider=AlbyAPI(api_key=os.getenv(\"ALBY_TOKEN\")),\n",
      "   credentials_service=SqliteCredentialsService()\n",
      ")\n",
      "\n",
      "def post_web_scraper_access(url: str) -> dict:\n",
      "    \"\"\"\n",
      "    Scrape a given URL by passing it as JSON in the request body.\n",
      "\n",
      "    This function sends a POST request to the specified endpoint with the URL in the request body.\n",
      "    \n",
      "    Parameters:\n",
      "    - url (str): The URL to be scraped.\n",
      "\n",
      "    Returns:\n",
      "    - dict: The response object containing the server's response to the request.\n",
      "    \"\"\"\n",
      "    endpoint = \"https://api.fewsats.com/v0/gateway/access/f12e5deb-b07b-4af4-a4f2-3fbf076228a9\"\n",
      "    body = {\"url\": url}\n",
      "    \n",
      "    try:\n",
      "        response = l402_requests.post(endpoint, json=body)\n",
      "        response.raise_for_status()  # Raise an error for bad responses\n",
      "        return response.json()\n",
      "    except requests.exceptions.RequestException as e:\n",
      "        print(f\"An error occurred: {e}\")\n",
      "        return None\n"
     ]
    }
   ],
   "source": [
    "extracted_code = extract_function_code(response)\n",
    "print(extracted_code)"
   ]
  },
  {
   "cell_type": "markdown",
   "metadata": {},
   "source": [
    "### Creating the function"
   ]
  },
  {
   "cell_type": "code",
   "execution_count": null,
   "metadata": {},
   "outputs": [],
   "source": [
    "#| export\n",
    "\n",
    "import importlib.util\n",
    "import re\n",
    "import os\n",
    "\n",
    "def create_func(code_string):\n",
    "    # Ensure the funcs directory exists\n",
    "    os.makedirs('.funcs', exist_ok=True)\n",
    "\n",
    "    # Extract Python code from Markdown code blocks if present\n",
    "    code_pattern = re.compile(r'```python\\n(.*?)```', re.DOTALL)\n",
    "    match = code_pattern.search(code_string)\n",
    "    extracted_code = match.group(1).strip() if match else code_string\n",
    "\n",
    "    # Create a temporary file name\n",
    "\n",
    "    function_name = extracted_code.split('def ')[1].split('(')[0].strip()\n",
    "\n",
    "    temp_file = f'.funcs/{function_name}.py'\n",
    "\n",
    "    # Write the code to a temporary file\n",
    "    with open(temp_file, 'w') as f:\n",
    "        f.write(extracted_code)\n",
    "\n",
    "    # Import the function\n",
    "    spec = importlib.util.spec_from_file_location(\"temp_module\", temp_file)\n",
    "    temp_module = importlib.util.module_from_spec(spec)\n",
    "    spec.loader.exec_module(temp_module)\n",
    "\n",
    "    # Get the function\n",
    "    function_name = extracted_code.split('def ')[1].split('(')[0].strip()\n",
    "    return getattr(temp_module, function_name)\n",
    "\n"
   ]
  },
  {
   "cell_type": "code",
   "execution_count": null,
   "metadata": {},
   "outputs": [],
   "source": [
    "\n",
    "gf = create_func(extracted_code)\n"
   ]
  },
  {
   "cell_type": "code",
   "execution_count": null,
   "metadata": {},
   "outputs": [
    {
     "data": {
      "text/plain": [
       "{'success': True,\n",
       " 'data': {'markdown': \"![](https://cdn.prod.website-files.com/6645a4a7082c15bec7e9fd6e/66475f66cdbcb00d7bf2fd44_Employee%20data.png)\\n\\n[Learn More](#)![](https://cdn.prod.website-files.com/6645a4a7082c15bec7e9fd6e/6645a4a7082c15bec7e9fdda_arrow-right-icon.png)\\n\\n\\n![](https://cdn.prod.website-files.com/6645a4a7082c15bec7e9fd6e/6645a4a7082c15bec7e9fdda_arrow-right-icon.png)\\n\\n[Learn More](#)![](https://cdn.prod.website-files.com/6645a4a7082c15bec7e9fd6e/6645a4a7082c15bec7e9fdda_arrow-right-icon.png)\\n\\n\\n![](https://cdn.prod.website-files.com/6645a4a7082c15bec7e9fd6e/6645a4a7082c15bec7e9fdda_arrow-right-icon.png)\\n\\n![](https://cdn.prod.website-files.com/6645a4a7082c15bec7e9fd6e/664773c569f5d9dbac6655a0_Employee%20data-2.png)\\n\\n![](https://cdn.prod.website-files.com/6645a4a7082c15bec7e9fd6e/664762e683491e5b21c08f31_Employee%20data-3.png)\\n\\n[Learn More](#)![](https://cdn.prod.website-files.com/6645a4a7082c15bec7e9fd6e/6645a4a7082c15bec7e9fdda_arrow-right-icon.png)\\n\\n\\n![](https://cdn.prod.website-files.com/6645a4a7082c15bec7e9fd6e/6645a4a7082c15bec7e9fdda_arrow-right-icon.png)\\n\\nThe L402 protocol builds on top of HTTP and the Lightning network to enable internet-first, machine friendly paywalls.\\n\\nInternet-Native Paywalls\\n\\nThe L402 protocol builds on top of HTTP and the Lightning network to enable internet-first, machine friendly paywalls.\\n\\nL402 is an open protocol that anyone can build upon, fostering a flourishing ecosystem of innovative solutions.\\n\\nWhen the user asks about the last 'Yankees match' the response includes real-time scores, key moments, and insights from the last game.\\n\\nAmet minim mollit non deserunt est sit aliqua dolor do amet sint officia consequat duis enim mollit exercitation.\\n\\n→\\n\\nAmet minim mollit non deserunt est sit aliqua dolor do amet sint officia consequat duis enim mollit exercitation.\\n\\n→\\n\\nAI systems are now key consumers of software, driving demand for more intelligent, contextual data and tools. With one integration, Fewsats unlocks a universe of resources to supercharge these AI consumers.\\n\\nRevolutionize your bots with Retrieval Augmented Generation (RAG) and in-context information.\\n\\n\\nWhen the user asks about the last 'Yankees match' the response includes real-time scores, key moments, and insights from the last game.\\n\\nAmet minim mollit non deserunt est sit aliqua dolor do amet sint officia consequat duis enim mollit exercitation.\\n\\n→\\n\\nAmet minim mollit non deserunt est sit aliqua dolor do amet sint officia consequat duis enim mollit exercitation.\\n\\n→\\n\",\n",
       "  'metadata': {'title': 'Monetize your Files, Databases',\n",
       "   'language': None,\n",
       "   'ogLocaleAlternate': [],\n",
       "   'sourceURL': 'https://www.fewsats.com/',\n",
       "   'statusCode': 200}},\n",
       " 'error': None}"
      ]
     },
     "execution_count": null,
     "metadata": {},
     "output_type": "execute_result"
    }
   ],
   "source": [
    "r = gf('https://www.fewsats.com/')\n",
    "r"
   ]
  },
  {
   "cell_type": "markdown",
   "metadata": {},
   "source": [
    "## Adding Tools to the Agent"
   ]
  },
  {
   "cell_type": "code",
   "execution_count": null,
   "metadata": {},
   "outputs": [],
   "source": [
    "tools = [get_l402_uri_info]\n",
    "chat = Chat('gpt-4o-mini', sp='You are a helpful assistant that provides information about L402 URIs and your available tools.', tools=tools)\n",
    "\n",
    "chat(\"which tools do you have available?\")"
   ]
  },
  {
   "cell_type": "code",
   "execution_count": null,
   "metadata": {},
   "outputs": [],
   "source": [
    "r = chat(f'What is the info of: {uri}')\n",
    "display(Markdown(get_text(r)))"
   ]
  },
  {
   "cell_type": "code",
   "execution_count": null,
   "metadata": {},
   "outputs": [],
   "source": [
    "# Step 1: Get L402 URI info\n",
    "info = get_l402_uri_info(uri)\n",
    "print(\"L402 URI info retrieved successfully.\")\n",
    "info\n"
   ]
  },
  {
   "cell_type": "code",
   "execution_count": null,
   "metadata": {},
   "outputs": [],
   "source": [
    "# Step 2: Generate Python function\n",
    "func_code = generate_python_function(info)\n",
    "print(\"Python function generated successfully.\")\n",
    "func_code"
   ]
  },
  {
   "cell_type": "code",
   "execution_count": null,
   "metadata": {},
   "outputs": [],
   "source": [
    "\n",
    "# Step 3: Extract function code\n",
    "extracted_code = extract_function_code(get_text(func_code))\n",
    "print(\"Function code extracted successfully.\")\n",
    "extracted_code"
   ]
  },
  {
   "cell_type": "code",
   "execution_count": null,
   "metadata": {},
   "outputs": [],
   "source": [
    "\n",
    "# Step 4: Create the function\n",
    "cf = create_func(extracted_code)\n",
    "print(\"Function created successfully.\")"
   ]
  },
  {
   "cell_type": "code",
   "execution_count": null,
   "metadata": {},
   "outputs": [],
   "source": [
    "tools = [get_l402_uri_info, cf]"
   ]
  },
  {
   "cell_type": "code",
   "execution_count": null,
   "metadata": {},
   "outputs": [],
   "source": [
    "chat = Chat('gpt-4o-mini', sp='You are a helpful assistant that provides information about L402 URIs and your available tools.', tools=tools)\n"
   ]
  },
  {
   "cell_type": "code",
   "execution_count": null,
   "metadata": {},
   "outputs": [],
   "source": [
    "chat(\"which tools do you have available?\")"
   ]
  },
  {
   "cell_type": "code",
   "execution_count": null,
   "metadata": {},
   "outputs": [],
   "source": [
    "chat.toolloop(\"can you scrape this url for me: https://www.fewsats.com/\")"
   ]
  },
  {
   "cell_type": "markdown",
   "metadata": {},
   "source": [
    "Now that we have the full process on how to add a tool to the agent, let's write a single function that encapsulates the entire process. The agent will be able to call this function to add a new tool."
   ]
  },
  {
   "cell_type": "code",
   "execution_count": null,
   "metadata": {},
   "outputs": [],
   "source": [
    "#| export\n",
    "\n",
    "def add_l402_tool(uri: str) -> str:\n",
    "    \"\"\"Add a new tool to the agent's toolset.\"\"\"\n",
    "    info = get_l402_uri_info(uri)\n",
    "    r = generate_python_function(info)\n",
    "    func_code = extract_function_code(get_text(r))\n",
    "\n",
    "    cf = create_func(func_code)\n",
    "    tools.append(cf)\n",
    "    return f\"tool {cf.__name__} added\""
   ]
  },
  {
   "cell_type": "code",
   "execution_count": null,
   "metadata": {},
   "outputs": [],
   "source": [
    "#| hide\n",
    "import nbdev; nbdev.nbdev_export()"
   ]
  }
 ],
 "metadata": {
  "kernelspec": {
   "display_name": "python3",
   "language": "python",
   "name": "python3"
  }
 },
 "nbformat": 4,
 "nbformat_minor": 2
}
